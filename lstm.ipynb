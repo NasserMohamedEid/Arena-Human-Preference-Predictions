{
 "cells": [
  {
   "cell_type": "code",
   "execution_count": 1,
   "id": "668dd757",
   "metadata": {
    "_cell_guid": "b1076dfc-b9ad-4769-8c92-a6c4dae69d19",
    "_uuid": "8f2839f25d086af736a60e9eeb907d3b93b6e0e5",
    "execution": {
     "iopub.execute_input": "2024-06-01T20:15:10.317120Z",
     "iopub.status.busy": "2024-06-01T20:15:10.316736Z",
     "iopub.status.idle": "2024-06-01T20:15:11.050937Z",
     "shell.execute_reply": "2024-06-01T20:15:11.050005Z"
    },
    "papermill": {
     "duration": 0.748516,
     "end_time": "2024-06-01T20:15:11.053260",
     "exception": false,
     "start_time": "2024-06-01T20:15:10.304744",
     "status": "completed"
    },
    "tags": []
   },
   "outputs": [
    {
     "name": "stdout",
     "output_type": "stream",
     "text": [
      "/kaggle/input/lmsys-chatbot-arena/sample_submission.csv\n",
      "/kaggle/input/lmsys-chatbot-arena/train.csv\n",
      "/kaggle/input/lmsys-chatbot-arena/test.csv\n"
     ]
    }
   ],
   "source": [
    "# This Python 3 environment comes with many helpful analytics libraries installed\n",
    "# It is defined by the kaggle/python Docker image: https://github.com/kaggle/docker-python\n",
    "# For example, here's several helpful packages to load\n",
    "\n",
    "import numpy as np # linear algebra\n",
    "import pandas as pd # data processing, CSV file I/O (e.g. pd.read_csv)\n",
    "\n",
    "# Input data files are available in the read-only \"../input/\" directory\n",
    "# For example, running this (by clicking run or pressing Shift+Enter) will list all files under the input directory\n",
    "\n",
    "import os\n",
    "for dirname, _, filenames in os.walk('/kaggle/input'):\n",
    "    for filename in filenames:\n",
    "        print(os.path.join(dirname, filename))\n",
    "\n",
    "# You can write up to 20GB to the current directory (/kaggle/working/) that gets preserved as output when you create a version using \"Save & Run All\" \n",
    "# You can also write temporary files to /kaggle/temp/, but they won't be saved outside of the current session"
   ]
  },
  {
   "cell_type": "code",
   "execution_count": 2,
   "id": "b06458e4",
   "metadata": {
    "execution": {
     "iopub.execute_input": "2024-06-01T20:15:11.075325Z",
     "iopub.status.busy": "2024-06-01T20:15:11.074931Z",
     "iopub.status.idle": "2024-06-01T20:15:17.524195Z",
     "shell.execute_reply": "2024-06-01T20:15:17.523405Z"
    },
    "papermill": {
     "duration": 6.462614,
     "end_time": "2024-06-01T20:15:17.526469",
     "exception": false,
     "start_time": "2024-06-01T20:15:11.063855",
     "status": "completed"
    },
    "tags": []
   },
   "outputs": [],
   "source": [
    "import os\n",
    "import numpy as np # linear algebra\n",
    "import pandas as pd # data processing, CSV file I/O (e.g. pd.read_csv)\n",
    "import regex as re\n",
    "\n",
    "from sklearn.feature_extraction.text import TfidfVectorizer\n",
    "\n",
    "from sklearn.model_selection import train_test_split\n",
    "from sklearn.metrics import classification_report, f1_score, recall_score, precision_score, accuracy_score, roc_auc_score, log_loss\n",
    "from sklearn.preprocessing import LabelEncoder\n",
    "import nltk\n",
    "from nltk.corpus import stopwords, wordnet\n",
    "from nltk.stem import PorterStemmer\n",
    "import string\n",
    "from nltk.stem import WordNetLemmatizer\n",
    "import torch\n",
    "from torchtext.data.utils import get_tokenizer\n",
    "from torchtext.vocab import build_vocab_from_iterator\n",
    "from torch.nn.utils.rnn import pad_sequence\n",
    "from sklearn.model_selection import train_test_split\n",
    "from sklearn.preprocessing import LabelEncoder\n",
    "import torch.nn as nn\n",
    "from torch.utils.data import DataLoader, Dataset\n",
    "import torch\n",
    "import torch.nn as nn\n",
    "import torch.optim as optim\n",
    "from torch.nn.utils.rnn import pad_sequence\n"
   ]
  },
  {
   "cell_type": "code",
   "execution_count": 3,
   "id": "5cda82a1",
   "metadata": {
    "execution": {
     "iopub.execute_input": "2024-06-01T20:15:17.549044Z",
     "iopub.status.busy": "2024-06-01T20:15:17.548006Z",
     "iopub.status.idle": "2024-06-01T20:15:17.557003Z",
     "shell.execute_reply": "2024-06-01T20:15:17.556306Z"
    },
    "papermill": {
     "duration": 0.02181,
     "end_time": "2024-06-01T20:15:17.558845",
     "exception": false,
     "start_time": "2024-06-01T20:15:17.537035",
     "status": "completed"
    },
    "tags": []
   },
   "outputs": [],
   "source": [
    "# Define the path to the downloaded NLTK data\n",
    "nltk_data_path = '/path/to/your/nltk_data'\n",
    "\n",
    "# Tell NLTK to look for data in the specified directory\n",
    "nltk.data.path.append(nltk_data_path)\n",
    "\n",
    "# Load the necessary resources\n",
    "stop_words = set(stopwords.words('english'))\n",
    "stemmer = PorterStemmer()\n",
    "lemmatizer = WordNetLemmatizer()\n"
   ]
  },
  {
   "cell_type": "code",
   "execution_count": 4,
   "id": "c56d4ac4",
   "metadata": {
    "execution": {
     "iopub.execute_input": "2024-06-01T20:15:17.581272Z",
     "iopub.status.busy": "2024-06-01T20:15:17.580957Z",
     "iopub.status.idle": "2024-06-01T20:15:21.899863Z",
     "shell.execute_reply": "2024-06-01T20:15:21.899039Z"
    },
    "papermill": {
     "duration": 4.333234,
     "end_time": "2024-06-01T20:15:21.902249",
     "exception": false,
     "start_time": "2024-06-01T20:15:17.569015",
     "status": "completed"
    },
    "tags": []
   },
   "outputs": [],
   "source": [
    "train = pd.read_csv(\"/kaggle/input/lmsys-chatbot-arena/train.csv\")\n",
    "\n",
    "test = pd.read_csv(\"/kaggle/input/lmsys-chatbot-arena/test.csv\")"
   ]
  },
  {
   "cell_type": "code",
   "execution_count": 5,
   "id": "4a41dbe4",
   "metadata": {
    "execution": {
     "iopub.execute_input": "2024-06-01T20:15:21.927224Z",
     "iopub.status.busy": "2024-06-01T20:15:21.926910Z",
     "iopub.status.idle": "2024-06-01T20:15:21.951021Z",
     "shell.execute_reply": "2024-06-01T20:15:21.950096Z"
    },
    "papermill": {
     "duration": 0.038431,
     "end_time": "2024-06-01T20:15:21.953088",
     "exception": false,
     "start_time": "2024-06-01T20:15:21.914657",
     "status": "completed"
    },
    "tags": []
   },
   "outputs": [
    {
     "data": {
      "text/html": [
       "<div>\n",
       "<style scoped>\n",
       "    .dataframe tbody tr th:only-of-type {\n",
       "        vertical-align: middle;\n",
       "    }\n",
       "\n",
       "    .dataframe tbody tr th {\n",
       "        vertical-align: top;\n",
       "    }\n",
       "\n",
       "    .dataframe thead th {\n",
       "        text-align: right;\n",
       "    }\n",
       "</style>\n",
       "<table border=\"1\" class=\"dataframe\">\n",
       "  <thead>\n",
       "    <tr style=\"text-align: right;\">\n",
       "      <th></th>\n",
       "      <th>id</th>\n",
       "      <th>model_a</th>\n",
       "      <th>model_b</th>\n",
       "      <th>prompt</th>\n",
       "      <th>response_a</th>\n",
       "      <th>response_b</th>\n",
       "      <th>winner_model_a</th>\n",
       "      <th>winner_model_b</th>\n",
       "      <th>winner_tie</th>\n",
       "    </tr>\n",
       "  </thead>\n",
       "  <tbody>\n",
       "    <tr>\n",
       "      <th>0</th>\n",
       "      <td>30192</td>\n",
       "      <td>gpt-4-1106-preview</td>\n",
       "      <td>gpt-4-0613</td>\n",
       "      <td>[\"Is it morally right to try to have a certain...</td>\n",
       "      <td>[\"The question of whether it is morally right ...</td>\n",
       "      <td>[\"As an AI, I don't have personal beliefs or o...</td>\n",
       "      <td>1</td>\n",
       "      <td>0</td>\n",
       "      <td>0</td>\n",
       "    </tr>\n",
       "    <tr>\n",
       "      <th>1</th>\n",
       "      <td>53567</td>\n",
       "      <td>koala-13b</td>\n",
       "      <td>gpt-4-0613</td>\n",
       "      <td>[\"What is the difference between marriage lice...</td>\n",
       "      <td>[\"A marriage license is a legal document that ...</td>\n",
       "      <td>[\"A marriage license and a marriage certificat...</td>\n",
       "      <td>0</td>\n",
       "      <td>1</td>\n",
       "      <td>0</td>\n",
       "    </tr>\n",
       "    <tr>\n",
       "      <th>2</th>\n",
       "      <td>65089</td>\n",
       "      <td>gpt-3.5-turbo-0613</td>\n",
       "      <td>mistral-medium</td>\n",
       "      <td>[\"explain function calling. how would you call...</td>\n",
       "      <td>[\"Function calling is the process of invoking ...</td>\n",
       "      <td>[\"Function calling is the process of invoking ...</td>\n",
       "      <td>0</td>\n",
       "      <td>0</td>\n",
       "      <td>1</td>\n",
       "    </tr>\n",
       "    <tr>\n",
       "      <th>3</th>\n",
       "      <td>96401</td>\n",
       "      <td>llama-2-13b-chat</td>\n",
       "      <td>mistral-7b-instruct</td>\n",
       "      <td>[\"How can I create a test set for a very rare ...</td>\n",
       "      <td>[\"Creating a test set for a very rare category...</td>\n",
       "      <td>[\"When building a classifier for a very rare c...</td>\n",
       "      <td>1</td>\n",
       "      <td>0</td>\n",
       "      <td>0</td>\n",
       "    </tr>\n",
       "    <tr>\n",
       "      <th>4</th>\n",
       "      <td>198779</td>\n",
       "      <td>koala-13b</td>\n",
       "      <td>gpt-3.5-turbo-0314</td>\n",
       "      <td>[\"What is the best way to travel from Tel-Aviv...</td>\n",
       "      <td>[\"The best way to travel from Tel Aviv to Jeru...</td>\n",
       "      <td>[\"The best way to travel from Tel-Aviv to Jeru...</td>\n",
       "      <td>0</td>\n",
       "      <td>1</td>\n",
       "      <td>0</td>\n",
       "    </tr>\n",
       "    <tr>\n",
       "      <th>...</th>\n",
       "      <td>...</td>\n",
       "      <td>...</td>\n",
       "      <td>...</td>\n",
       "      <td>...</td>\n",
       "      <td>...</td>\n",
       "      <td>...</td>\n",
       "      <td>...</td>\n",
       "      <td>...</td>\n",
       "      <td>...</td>\n",
       "    </tr>\n",
       "    <tr>\n",
       "      <th>57472</th>\n",
       "      <td>4294656694</td>\n",
       "      <td>gpt-4-0613</td>\n",
       "      <td>claude-1</td>\n",
       "      <td>[\"A simple mnemonic for \\u03c0:\\n\\\"How I wish ...</td>\n",
       "      <td>[\"Sure, let's break it down:\\n\\n1. \\\"How\\\" has...</td>\n",
       "      <td>[\"Here is how that mnemonic represents the dig...</td>\n",
       "      <td>1</td>\n",
       "      <td>0</td>\n",
       "      <td>0</td>\n",
       "    </tr>\n",
       "    <tr>\n",
       "      <th>57473</th>\n",
       "      <td>4294692063</td>\n",
       "      <td>claude-2.0</td>\n",
       "      <td>llama-2-13b-chat</td>\n",
       "      <td>[\"In python, implement a naive Bayes with gaus...</td>\n",
       "      <td>[\"Here is an implementation of a naive Bayes c...</td>\n",
       "      <td>[\"Sure! Here's an implementation of a naive Ba...</td>\n",
       "      <td>1</td>\n",
       "      <td>0</td>\n",
       "      <td>0</td>\n",
       "    </tr>\n",
       "    <tr>\n",
       "      <th>57474</th>\n",
       "      <td>4294710549</td>\n",
       "      <td>claude-1</td>\n",
       "      <td>alpaca-13b</td>\n",
       "      <td>[\"is it unethical to work on building weapons?...</td>\n",
       "      <td>[\"Working on weapons technology raises some et...</td>\n",
       "      <td>[\"It depends on the context. Weapons can be us...</td>\n",
       "      <td>1</td>\n",
       "      <td>0</td>\n",
       "      <td>0</td>\n",
       "    </tr>\n",
       "    <tr>\n",
       "      <th>57475</th>\n",
       "      <td>4294899228</td>\n",
       "      <td>palm-2</td>\n",
       "      <td>tulu-2-dpo-70b</td>\n",
       "      <td>[\"If a bait contains 0,0025% bromadiolon then ...</td>\n",
       "      <td>[\"Bromadiolone is a rodenticide which is most ...</td>\n",
       "      <td>[\"As an AI language model, I do not promote or...</td>\n",
       "      <td>0</td>\n",
       "      <td>1</td>\n",
       "      <td>0</td>\n",
       "    </tr>\n",
       "    <tr>\n",
       "      <th>57476</th>\n",
       "      <td>4294947231</td>\n",
       "      <td>gemini-pro-dev-api</td>\n",
       "      <td>gpt-4-1106-preview</td>\n",
       "      <td>[\"three kids eat three apples in three days, h...</td>\n",
       "      <td>[\"27 apples\"]</td>\n",
       "      <td>[\"If three kids eat three apples in three days...</td>\n",
       "      <td>1</td>\n",
       "      <td>0</td>\n",
       "      <td>0</td>\n",
       "    </tr>\n",
       "  </tbody>\n",
       "</table>\n",
       "<p>57477 rows × 9 columns</p>\n",
       "</div>"
      ],
      "text/plain": [
       "               id             model_a              model_b  \\\n",
       "0           30192  gpt-4-1106-preview           gpt-4-0613   \n",
       "1           53567           koala-13b           gpt-4-0613   \n",
       "2           65089  gpt-3.5-turbo-0613       mistral-medium   \n",
       "3           96401    llama-2-13b-chat  mistral-7b-instruct   \n",
       "4          198779           koala-13b   gpt-3.5-turbo-0314   \n",
       "...           ...                 ...                  ...   \n",
       "57472  4294656694          gpt-4-0613             claude-1   \n",
       "57473  4294692063          claude-2.0     llama-2-13b-chat   \n",
       "57474  4294710549            claude-1           alpaca-13b   \n",
       "57475  4294899228              palm-2       tulu-2-dpo-70b   \n",
       "57476  4294947231  gemini-pro-dev-api   gpt-4-1106-preview   \n",
       "\n",
       "                                                  prompt  \\\n",
       "0      [\"Is it morally right to try to have a certain...   \n",
       "1      [\"What is the difference between marriage lice...   \n",
       "2      [\"explain function calling. how would you call...   \n",
       "3      [\"How can I create a test set for a very rare ...   \n",
       "4      [\"What is the best way to travel from Tel-Aviv...   \n",
       "...                                                  ...   \n",
       "57472  [\"A simple mnemonic for \\u03c0:\\n\\\"How I wish ...   \n",
       "57473  [\"In python, implement a naive Bayes with gaus...   \n",
       "57474  [\"is it unethical to work on building weapons?...   \n",
       "57475  [\"If a bait contains 0,0025% bromadiolon then ...   \n",
       "57476  [\"three kids eat three apples in three days, h...   \n",
       "\n",
       "                                              response_a  \\\n",
       "0      [\"The question of whether it is morally right ...   \n",
       "1      [\"A marriage license is a legal document that ...   \n",
       "2      [\"Function calling is the process of invoking ...   \n",
       "3      [\"Creating a test set for a very rare category...   \n",
       "4      [\"The best way to travel from Tel Aviv to Jeru...   \n",
       "...                                                  ...   \n",
       "57472  [\"Sure, let's break it down:\\n\\n1. \\\"How\\\" has...   \n",
       "57473  [\"Here is an implementation of a naive Bayes c...   \n",
       "57474  [\"Working on weapons technology raises some et...   \n",
       "57475  [\"Bromadiolone is a rodenticide which is most ...   \n",
       "57476                                      [\"27 apples\"]   \n",
       "\n",
       "                                              response_b  winner_model_a  \\\n",
       "0      [\"As an AI, I don't have personal beliefs or o...               1   \n",
       "1      [\"A marriage license and a marriage certificat...               0   \n",
       "2      [\"Function calling is the process of invoking ...               0   \n",
       "3      [\"When building a classifier for a very rare c...               1   \n",
       "4      [\"The best way to travel from Tel-Aviv to Jeru...               0   \n",
       "...                                                  ...             ...   \n",
       "57472  [\"Here is how that mnemonic represents the dig...               1   \n",
       "57473  [\"Sure! Here's an implementation of a naive Ba...               1   \n",
       "57474  [\"It depends on the context. Weapons can be us...               1   \n",
       "57475  [\"As an AI language model, I do not promote or...               0   \n",
       "57476  [\"If three kids eat three apples in three days...               1   \n",
       "\n",
       "       winner_model_b  winner_tie  \n",
       "0                   0           0  \n",
       "1                   1           0  \n",
       "2                   0           1  \n",
       "3                   0           0  \n",
       "4                   1           0  \n",
       "...               ...         ...  \n",
       "57472               0           0  \n",
       "57473               0           0  \n",
       "57474               0           0  \n",
       "57475               1           0  \n",
       "57476               0           0  \n",
       "\n",
       "[57477 rows x 9 columns]"
      ]
     },
     "execution_count": 5,
     "metadata": {},
     "output_type": "execute_result"
    }
   ],
   "source": [
    "train"
   ]
  },
  {
   "cell_type": "code",
   "execution_count": 6,
   "id": "15c99b38",
   "metadata": {
    "execution": {
     "iopub.execute_input": "2024-06-01T20:15:21.975441Z",
     "iopub.status.busy": "2024-06-01T20:15:21.975184Z",
     "iopub.status.idle": "2024-06-01T20:15:21.979034Z",
     "shell.execute_reply": "2024-06-01T20:15:21.978240Z"
    },
    "papermill": {
     "duration": 0.016879,
     "end_time": "2024-06-01T20:15:21.980947",
     "exception": false,
     "start_time": "2024-06-01T20:15:21.964068",
     "status": "completed"
    },
    "tags": []
   },
   "outputs": [],
   "source": [
    "target_columns = ['winner_model_a', 'winner_model_b', 'winner_tie']"
   ]
  },
  {
   "cell_type": "code",
   "execution_count": 7,
   "id": "b093ccf2",
   "metadata": {
    "execution": {
     "iopub.execute_input": "2024-06-01T20:15:22.004265Z",
     "iopub.status.busy": "2024-06-01T20:15:22.003589Z",
     "iopub.status.idle": "2024-06-01T20:15:22.036927Z",
     "shell.execute_reply": "2024-06-01T20:15:22.036238Z"
    },
    "papermill": {
     "duration": 0.047527,
     "end_time": "2024-06-01T20:15:22.038826",
     "exception": false,
     "start_time": "2024-06-01T20:15:21.991299",
     "status": "completed"
    },
    "tags": []
   },
   "outputs": [],
   "source": [
    "y = train[target_columns].idxmax(axis=1) \n",
    "\n",
    "# Encode labels\n",
    "label_encoder = LabelEncoder()\n",
    "y_encoded = label_encoder.fit_transform(y)"
   ]
  },
  {
   "cell_type": "code",
   "execution_count": 8,
   "id": "b1bb9c94",
   "metadata": {
    "execution": {
     "iopub.execute_input": "2024-06-01T20:15:22.060635Z",
     "iopub.status.busy": "2024-06-01T20:15:22.060383Z",
     "iopub.status.idle": "2024-06-01T20:15:22.088589Z",
     "shell.execute_reply": "2024-06-01T20:15:22.087755Z"
    },
    "papermill": {
     "duration": 0.041312,
     "end_time": "2024-06-01T20:15:22.090539",
     "exception": false,
     "start_time": "2024-06-01T20:15:22.049227",
     "status": "completed"
    },
    "tags": []
   },
   "outputs": [],
   "source": [
    "labels = torch.tensor(y_encoded, dtype=torch.int64)"
   ]
  },
  {
   "cell_type": "code",
   "execution_count": 9,
   "id": "2af9838b",
   "metadata": {
    "execution": {
     "iopub.execute_input": "2024-06-01T20:15:22.112453Z",
     "iopub.status.busy": "2024-06-01T20:15:22.112176Z",
     "iopub.status.idle": "2024-06-01T20:15:22.138653Z",
     "shell.execute_reply": "2024-06-01T20:15:22.137861Z"
    },
    "papermill": {
     "duration": 0.039444,
     "end_time": "2024-06-01T20:15:22.140488",
     "exception": false,
     "start_time": "2024-06-01T20:15:22.101044",
     "status": "completed"
    },
    "tags": []
   },
   "outputs": [
    {
     "data": {
      "text/plain": [
       "tensor([0, 1, 2,  ..., 0, 1, 0])"
      ]
     },
     "execution_count": 9,
     "metadata": {},
     "output_type": "execute_result"
    }
   ],
   "source": [
    "labels"
   ]
  },
  {
   "cell_type": "markdown",
   "id": "970ff2b8",
   "metadata": {
    "papermill": {
     "duration": 0.010145,
     "end_time": "2024-06-01T20:15:22.161167",
     "exception": false,
     "start_time": "2024-06-01T20:15:22.151022",
     "status": "completed"
    },
    "tags": []
   },
   "source": [
    "# Data Preprocessing"
   ]
  },
  {
   "cell_type": "code",
   "execution_count": null,
   "id": "13632e84",
   "metadata": {
    "papermill": {
     "duration": 0.010143,
     "end_time": "2024-06-01T20:15:22.181756",
     "exception": false,
     "start_time": "2024-06-01T20:15:22.171613",
     "status": "completed"
    },
    "tags": []
   },
   "outputs": [],
   "source": []
  },
  {
   "cell_type": "markdown",
   "id": "bb65017a",
   "metadata": {
    "papermill": {
     "duration": 0.010272,
     "end_time": "2024-06-01T20:15:22.202490",
     "exception": false,
     "start_time": "2024-06-01T20:15:22.192218",
     "status": "completed"
    },
    "tags": []
   },
   "source": [
    "## Clean"
   ]
  },
  {
   "cell_type": "code",
   "execution_count": 10,
   "id": "cc026fbb",
   "metadata": {
    "execution": {
     "iopub.execute_input": "2024-06-01T20:15:22.224525Z",
     "iopub.status.busy": "2024-06-01T20:15:22.224265Z",
     "iopub.status.idle": "2024-06-01T20:15:22.230229Z",
     "shell.execute_reply": "2024-06-01T20:15:22.229376Z"
    },
    "papermill": {
     "duration": 0.018941,
     "end_time": "2024-06-01T20:15:22.232018",
     "exception": false,
     "start_time": "2024-06-01T20:15:22.213077",
     "status": "completed"
    },
    "tags": []
   },
   "outputs": [],
   "source": [
    "def clean_text(text):\n",
    "    # Replace escaped characters with their actual representations\n",
    "    text = text.replace(r'\\\"', '\"')\n",
    "    text = text.replace(r\"\\'\", \"'\")\n",
    "    text = text.replace(r\"\\\\n\", \" \")\n",
    "    text = text.replace(r\"\\\\/\\\\/\", \"//\")\n",
    "    \n",
    "    # Remove code block markers\n",
    "    text = re.sub(r'```.*?```', '', text, flags=re.DOTALL)\n",
    "    \n",
    "    # Convert to lowercase\n",
    "    text = text.lower()\n",
    "    \n",
    "    # Remove punctuation\n",
    "    text = text.translate(str.maketrans('', '', string.punctuation))\n",
    "    \n",
    "    # Normalize whitespace\n",
    "    text = re.sub(r'\\s+', ' ', text).strip()\n",
    "    \n",
    "    return text\n"
   ]
  },
  {
   "cell_type": "code",
   "execution_count": 11,
   "id": "96786cb5",
   "metadata": {
    "execution": {
     "iopub.execute_input": "2024-06-01T20:15:22.253884Z",
     "iopub.status.busy": "2024-06-01T20:15:22.253589Z",
     "iopub.status.idle": "2024-06-01T20:15:22.260896Z",
     "shell.execute_reply": "2024-06-01T20:15:22.260196Z"
    },
    "papermill": {
     "duration": 0.020365,
     "end_time": "2024-06-01T20:15:22.262823",
     "exception": false,
     "start_time": "2024-06-01T20:15:22.242458",
     "status": "completed"
    },
    "tags": []
   },
   "outputs": [],
   "source": [
    "X_train = pd.DataFrame()\n",
    "X_test=pd.DataFrame()"
   ]
  },
  {
   "cell_type": "code",
   "execution_count": 12,
   "id": "d0a3188b",
   "metadata": {
    "execution": {
     "iopub.execute_input": "2024-06-01T20:15:22.286891Z",
     "iopub.status.busy": "2024-06-01T20:15:22.286282Z",
     "iopub.status.idle": "2024-06-01T20:15:44.186700Z",
     "shell.execute_reply": "2024-06-01T20:15:44.185807Z"
    },
    "papermill": {
     "duration": 21.914923,
     "end_time": "2024-06-01T20:15:44.188980",
     "exception": false,
     "start_time": "2024-06-01T20:15:22.274057",
     "status": "completed"
    },
    "tags": []
   },
   "outputs": [],
   "source": [
    "X_train[\"question\"]=train[\"prompt\"].apply(clean_text)\n",
    "X_train[\"response_a\"]=train[\"response_a\"].apply(clean_text)\n",
    "X_train[\"response_b\"]=train[\"response_b\"].apply(clean_text)\n"
   ]
  },
  {
   "cell_type": "code",
   "execution_count": null,
   "id": "460f0fef",
   "metadata": {
    "papermill": {
     "duration": 0.010325,
     "end_time": "2024-06-01T20:15:44.210190",
     "exception": false,
     "start_time": "2024-06-01T20:15:44.199865",
     "status": "completed"
    },
    "tags": []
   },
   "outputs": [],
   "source": []
  },
  {
   "cell_type": "code",
   "execution_count": 13,
   "id": "31de882d",
   "metadata": {
    "execution": {
     "iopub.execute_input": "2024-06-01T20:15:44.232679Z",
     "iopub.status.busy": "2024-06-01T20:15:44.232391Z",
     "iopub.status.idle": "2024-06-01T20:15:44.240755Z",
     "shell.execute_reply": "2024-06-01T20:15:44.240058Z"
    },
    "papermill": {
     "duration": 0.021864,
     "end_time": "2024-06-01T20:15:44.242742",
     "exception": false,
     "start_time": "2024-06-01T20:15:44.220878",
     "status": "completed"
    },
    "tags": []
   },
   "outputs": [],
   "source": [
    "X_test[\"question\"]=test[\"prompt\"].apply(clean_text)\n",
    "X_test[\"response_a\"]=test[\"response_a\"].apply(clean_text)\n",
    "X_test[\"response_b\"]=test[\"response_b\"].apply(clean_text)\n"
   ]
  },
  {
   "cell_type": "code",
   "execution_count": null,
   "id": "8a533d1a",
   "metadata": {
    "papermill": {
     "duration": 0.010247,
     "end_time": "2024-06-01T20:15:44.263668",
     "exception": false,
     "start_time": "2024-06-01T20:15:44.253421",
     "status": "completed"
    },
    "tags": []
   },
   "outputs": [],
   "source": []
  },
  {
   "cell_type": "markdown",
   "id": "c791f2b6",
   "metadata": {
    "papermill": {
     "duration": 0.010226,
     "end_time": "2024-06-01T20:15:44.284258",
     "exception": false,
     "start_time": "2024-06-01T20:15:44.274032",
     "status": "completed"
    },
    "tags": []
   },
   "source": [
    "## Tokenizer and vocabulary"
   ]
  },
  {
   "cell_type": "code",
   "execution_count": 14,
   "id": "961c96de",
   "metadata": {
    "execution": {
     "iopub.execute_input": "2024-06-01T20:15:44.306495Z",
     "iopub.status.busy": "2024-06-01T20:15:44.305829Z",
     "iopub.status.idle": "2024-06-01T20:16:07.371399Z",
     "shell.execute_reply": "2024-06-01T20:16:07.370600Z"
    },
    "papermill": {
     "duration": 23.079081,
     "end_time": "2024-06-01T20:16:07.373737",
     "exception": false,
     "start_time": "2024-06-01T20:15:44.294656",
     "status": "completed"
    },
    "tags": []
   },
   "outputs": [],
   "source": [
    "# Tokenizer\n",
    "tokenizer = get_tokenizer('basic_english')\n",
    "\n",
    "# Function to yield tokens from data iterator\n",
    "def yield_tokens(data_iter):\n",
    "    for text in data_iter:\n",
    "        yield tokenizer(text)\n",
    "\n",
    "# Build vocabulary from training data\n",
    "vocab = build_vocab_from_iterator(yield_tokens(X_train['question'] + X_train['response_a'] + X_train['response_b']), specials=[\"<unk>\"])\n",
    "vocab.set_default_index(vocab['<unk>'])\n",
    "\n",
    "\n",
    "def text_pipeline(text):\n",
    "    return vocab(tokenizer(text))\n"
   ]
  },
  {
   "cell_type": "code",
   "execution_count": 15,
   "id": "f1253e08",
   "metadata": {
    "execution": {
     "iopub.execute_input": "2024-06-01T20:16:07.396439Z",
     "iopub.status.busy": "2024-06-01T20:16:07.396156Z",
     "iopub.status.idle": "2024-06-01T20:16:35.067713Z",
     "shell.execute_reply": "2024-06-01T20:16:35.066372Z"
    },
    "papermill": {
     "duration": 27.685613,
     "end_time": "2024-06-01T20:16:35.070283",
     "exception": false,
     "start_time": "2024-06-01T20:16:07.384670",
     "status": "completed"
    },
    "tags": []
   },
   "outputs": [],
   "source": [
    "question_list = [torch.tensor(text_pipeline(text), dtype=torch.int64) for text in X_train['question']]\n",
    "answer1_list = [torch.tensor(text_pipeline(text), dtype=torch.int64) for text in X_train['response_a']]\n",
    "answer2_list = [torch.tensor(text_pipeline(text), dtype=torch.int64) for text in X_train['response_b']]\n",
    "\n",
    "# Pad sequences\n",
    "train_padded_questions = pad_sequence(question_list, batch_first=True)\n",
    "train_padded_answera = pad_sequence(answer1_list, batch_first=True)\n",
    "train_padded_answerb = pad_sequence(answer2_list, batch_first=True)"
   ]
  },
  {
   "cell_type": "code",
   "execution_count": 16,
   "id": "1c2748ec",
   "metadata": {
    "execution": {
     "iopub.execute_input": "2024-06-01T20:16:35.103350Z",
     "iopub.status.busy": "2024-06-01T20:16:35.102926Z",
     "iopub.status.idle": "2024-06-01T20:16:35.113225Z",
     "shell.execute_reply": "2024-06-01T20:16:35.112244Z"
    },
    "papermill": {
     "duration": 0.030609,
     "end_time": "2024-06-01T20:16:35.115384",
     "exception": false,
     "start_time": "2024-06-01T20:16:35.084775",
     "status": "completed"
    },
    "tags": []
   },
   "outputs": [],
   "source": [
    "test_question_list = [torch.tensor(text_pipeline(text), dtype=torch.int64) for text in X_test['question']]\n",
    "test_answer1_list = [torch.tensor(text_pipeline(text), dtype=torch.int64) for text in X_test['response_a']]\n",
    "test_answer2_list = [torch.tensor(text_pipeline(text), dtype=torch.int64) for text in X_test['response_b']]\n",
    "\n",
    "# Pad sequences\n",
    "test_padded_questions = pad_sequence(test_question_list, batch_first=True)\n",
    "test_padded_answera = pad_sequence(test_answer1_list, batch_first=True)\n",
    "test_padded_answerb = pad_sequence(test_answer2_list, batch_first=True)"
   ]
  },
  {
   "cell_type": "code",
   "execution_count": 17,
   "id": "74b3e0f3",
   "metadata": {
    "execution": {
     "iopub.execute_input": "2024-06-01T20:16:35.142535Z",
     "iopub.status.busy": "2024-06-01T20:16:35.142242Z",
     "iopub.status.idle": "2024-06-01T20:16:35.146293Z",
     "shell.execute_reply": "2024-06-01T20:16:35.145458Z"
    },
    "papermill": {
     "duration": 0.017953,
     "end_time": "2024-06-01T20:16:35.148283",
     "exception": false,
     "start_time": "2024-06-01T20:16:35.130330",
     "status": "completed"
    },
    "tags": []
   },
   "outputs": [],
   "source": [
    "from torch.utils.data import DataLoader, TensorDataset\n"
   ]
  },
  {
   "cell_type": "code",
   "execution_count": 18,
   "id": "dd41434c",
   "metadata": {
    "execution": {
     "iopub.execute_input": "2024-06-01T20:16:35.170487Z",
     "iopub.status.busy": "2024-06-01T20:16:35.170240Z",
     "iopub.status.idle": "2024-06-01T20:16:35.175081Z",
     "shell.execute_reply": "2024-06-01T20:16:35.174255Z"
    },
    "papermill": {
     "duration": 0.017957,
     "end_time": "2024-06-01T20:16:35.176954",
     "exception": false,
     "start_time": "2024-06-01T20:16:35.158997",
     "status": "completed"
    },
    "tags": []
   },
   "outputs": [],
   "source": [
    "batch_size=70\n",
    "# Create DataLoader for training data\n",
    "train_dataset = TensorDataset(train_padded_questions, train_padded_answera, train_padded_answerb, labels)\n",
    "train_loader = DataLoader(train_dataset, batch_size=batch_size, shuffle=True)"
   ]
  },
  {
   "cell_type": "code",
   "execution_count": 19,
   "id": "e8a441ca",
   "metadata": {
    "execution": {
     "iopub.execute_input": "2024-06-01T20:16:35.199075Z",
     "iopub.status.busy": "2024-06-01T20:16:35.198768Z",
     "iopub.status.idle": "2024-06-01T20:16:35.202935Z",
     "shell.execute_reply": "2024-06-01T20:16:35.202112Z"
    },
    "papermill": {
     "duration": 0.017417,
     "end_time": "2024-06-01T20:16:35.204880",
     "exception": false,
     "start_time": "2024-06-01T20:16:35.187463",
     "status": "completed"
    },
    "tags": []
   },
   "outputs": [],
   "source": [
    "test_dataset = TensorDataset(test_padded_questions, test_padded_answera, test_padded_answerb)\n",
    "test_loader = DataLoader(test_dataset, batch_size=batch_size, shuffle=False)"
   ]
  },
  {
   "cell_type": "code",
   "execution_count": null,
   "id": "5a72b094",
   "metadata": {
    "papermill": {
     "duration": 0.01007,
     "end_time": "2024-06-01T20:16:35.225323",
     "exception": false,
     "start_time": "2024-06-01T20:16:35.215253",
     "status": "completed"
    },
    "tags": []
   },
   "outputs": [],
   "source": []
  },
  {
   "cell_type": "code",
   "execution_count": null,
   "id": "1b0319cc",
   "metadata": {
    "papermill": {
     "duration": 0.010069,
     "end_time": "2024-06-01T20:16:35.245711",
     "exception": false,
     "start_time": "2024-06-01T20:16:35.235642",
     "status": "completed"
    },
    "tags": []
   },
   "outputs": [],
   "source": []
  },
  {
   "cell_type": "markdown",
   "id": "f4b83e6d",
   "metadata": {
    "papermill": {
     "duration": 0.011159,
     "end_time": "2024-06-01T20:16:35.267197",
     "exception": false,
     "start_time": "2024-06-01T20:16:35.256038",
     "status": "completed"
    },
    "tags": []
   },
   "source": [
    "## MODEL"
   ]
  },
  {
   "cell_type": "code",
   "execution_count": 20,
   "id": "3760ff28",
   "metadata": {
    "execution": {
     "iopub.execute_input": "2024-06-01T20:16:35.289040Z",
     "iopub.status.busy": "2024-06-01T20:16:35.288731Z",
     "iopub.status.idle": "2024-06-01T20:16:35.339158Z",
     "shell.execute_reply": "2024-06-01T20:16:35.338269Z"
    },
    "papermill": {
     "duration": 0.063523,
     "end_time": "2024-06-01T20:16:35.341070",
     "exception": false,
     "start_time": "2024-06-01T20:16:35.277547",
     "status": "completed"
    },
    "tags": []
   },
   "outputs": [],
   "source": [
    "device = torch.device('cuda' if torch.cuda.is_available() else 'cpu')\n"
   ]
  },
  {
   "cell_type": "code",
   "execution_count": 21,
   "id": "bcd27c1d",
   "metadata": {
    "execution": {
     "iopub.execute_input": "2024-06-01T20:16:35.363632Z",
     "iopub.status.busy": "2024-06-01T20:16:35.363356Z",
     "iopub.status.idle": "2024-06-01T20:16:35.371678Z",
     "shell.execute_reply": "2024-06-01T20:16:35.370863Z"
    },
    "papermill": {
     "duration": 0.021438,
     "end_time": "2024-06-01T20:16:35.373481",
     "exception": false,
     "start_time": "2024-06-01T20:16:35.352043",
     "status": "completed"
    },
    "tags": []
   },
   "outputs": [],
   "source": [
    "import torch.nn.functional as F\n",
    "\n",
    "class RNNModel(nn.Module):\n",
    "    def __init__(self, vocab_size, embed_dim, hidden_dim, output_dim):\n",
    "        super(RNNModel, self).__init__()\n",
    "        self.embedding = nn.Embedding(vocab_size, embed_dim)\n",
    "        self.rnn = nn.LSTM(embed_dim, hidden_dim, batch_first=True)\n",
    "        self.fc = nn.Linear(hidden_dim * 3, output_dim)  # Concatenate question and both answers\n",
    "\n",
    "    def forward(self, question, answer1, answer2):\n",
    "        question_emb = self.embedding(question)\n",
    "        answer1_emb = self.embedding(answer1)\n",
    "        answer2_emb = self.embedding(answer2)\n",
    "\n",
    "        _, (hidden_q, _) = self.rnn(question_emb)\n",
    "        _, (hidden_a1, _) = self.rnn(answer1_emb)\n",
    "        _, (hidden_a2, _) = self.rnn(answer2_emb)\n",
    "\n",
    "        concatenated = torch.cat((hidden_q.squeeze(0), hidden_a1.squeeze(0), hidden_a2.squeeze(0)), dim=1)\n",
    "        output = self.fc(concatenated)\n",
    "\n",
    "        # Apply softmax to get probabilities\n",
    "        probs = nn.functional.softmax(output, dim=1)\n",
    "\n",
    "        return probs"
   ]
  },
  {
   "cell_type": "code",
   "execution_count": 22,
   "id": "2ec251a4",
   "metadata": {
    "execution": {
     "iopub.execute_input": "2024-06-01T20:16:35.395573Z",
     "iopub.status.busy": "2024-06-01T20:16:35.395313Z",
     "iopub.status.idle": "2024-06-01T20:16:35.399331Z",
     "shell.execute_reply": "2024-06-01T20:16:35.398517Z"
    },
    "papermill": {
     "duration": 0.017274,
     "end_time": "2024-06-01T20:16:35.401218",
     "exception": false,
     "start_time": "2024-06-01T20:16:35.383944",
     "status": "completed"
    },
    "tags": []
   },
   "outputs": [],
   "source": [
    "vocab_size = len(vocab)\n",
    "embed_dim = 100\n",
    "hidden_dim = 128\n",
    "output_dim = 3  # Three probabilities"
   ]
  },
  {
   "cell_type": "code",
   "execution_count": 23,
   "id": "7927fc7e",
   "metadata": {
    "execution": {
     "iopub.execute_input": "2024-06-01T20:16:35.423110Z",
     "iopub.status.busy": "2024-06-01T20:16:35.422855Z",
     "iopub.status.idle": "2024-06-01T20:16:38.678894Z",
     "shell.execute_reply": "2024-06-01T20:16:38.678073Z"
    },
    "papermill": {
     "duration": 3.269672,
     "end_time": "2024-06-01T20:16:38.681360",
     "exception": false,
     "start_time": "2024-06-01T20:16:35.411688",
     "status": "completed"
    },
    "tags": []
   },
   "outputs": [],
   "source": [
    "model = RNNModel(vocab_size, embed_dim, hidden_dim, output_dim).to(device)\n",
    "criterion = nn.CrossEntropyLoss()\n",
    "optimizer = optim.Adam(model.parameters(), lr=0.001)"
   ]
  },
  {
   "cell_type": "code",
   "execution_count": 24,
   "id": "9a1dfbab",
   "metadata": {
    "execution": {
     "iopub.execute_input": "2024-06-01T20:16:38.704349Z",
     "iopub.status.busy": "2024-06-01T20:16:38.703836Z",
     "iopub.status.idle": "2024-06-01T20:45:48.265409Z",
     "shell.execute_reply": "2024-06-01T20:45:48.264465Z"
    },
    "papermill": {
     "duration": 1749.586593,
     "end_time": "2024-06-01T20:45:48.278794",
     "exception": false,
     "start_time": "2024-06-01T20:16:38.692201",
     "status": "completed"
    },
    "tags": []
   },
   "outputs": [
    {
     "name": "stdout",
     "output_type": "stream",
     "text": [
      "Epoch 1/3, Loss: 1.0977, Accuracy: 0.3474\n",
      "Epoch 2/3, Loss: 1.0974, Accuracy: 0.3475\n",
      "Epoch 3/3, Loss: 1.0973, Accuracy: 0.3474\n"
     ]
    }
   ],
   "source": [
    "num_epochs = 3\n",
    "for epoch in range(num_epochs):\n",
    "    model.train()  # Set the model to training mode\n",
    "    total_loss = 0\n",
    "    total_correct = 0\n",
    "    for batch in train_loader:\n",
    "        questions, answers1, answers2, labels = batch\n",
    "        questions = pad_sequence(questions, batch_first=True).to(device)\n",
    "        answers1 = pad_sequence(answers1, batch_first=True).to(device)\n",
    "        answers2 = pad_sequence(answers2, batch_first=True).to(device)\n",
    "        labels = labels.to(device)\n",
    "\n",
    "        optimizer.zero_grad()\n",
    "        outputs = model(questions, answers1, answers2)\n",
    "        loss = criterion(outputs, labels)\n",
    "        loss.backward()\n",
    "        optimizer.step()\n",
    "\n",
    "        total_loss += loss.item()\n",
    "        total_correct += (outputs.argmax(1) == labels).sum().item()\n",
    "\n",
    "    avg_loss = total_loss / len(train_loader)\n",
    "    accuracy = total_correct / len(train_loader.dataset)\n",
    "    print(f'Epoch {epoch+1}/{num_epochs}, Loss: {avg_loss:.4f}, Accuracy: {accuracy:.4f}')\n"
   ]
  },
  {
   "cell_type": "code",
   "execution_count": 25,
   "id": "0381261e",
   "metadata": {
    "execution": {
     "iopub.execute_input": "2024-06-01T20:45:48.302724Z",
     "iopub.status.busy": "2024-06-01T20:45:48.302418Z",
     "iopub.status.idle": "2024-06-01T20:45:48.473112Z",
     "shell.execute_reply": "2024-06-01T20:45:48.471861Z"
    },
    "papermill": {
     "duration": 0.184786,
     "end_time": "2024-06-01T20:45:48.475221",
     "exception": false,
     "start_time": "2024-06-01T20:45:48.290435",
     "status": "completed"
    },
    "tags": []
   },
   "outputs": [
    {
     "name": "stdout",
     "output_type": "stream",
     "text": [
      "[tensor([[0.3614, 0.3558, 0.2828],\n",
      "        [0.3452, 0.3658, 0.2890],\n",
      "        [0.3412, 0.3455, 0.3132]], device='cuda:0')]\n"
     ]
    }
   ],
   "source": [
    "model.eval()\n",
    "test_predictions = []\n",
    "with torch.no_grad():\n",
    "    for batch in test_loader:\n",
    "        questions, answers1, answers2 = batch\n",
    "        questions = pad_sequence(questions, batch_first=True).to(device)\n",
    "        answers1 = pad_sequence(answers1, batch_first=True).to(device)\n",
    "        answers2 = pad_sequence(answers2, batch_first=True).to(device)\n",
    "\n",
    "        outputs = model(questions, answers1, answers2)\n",
    "        test_predictions.append(outputs)\n",
    "\n",
    "print(test_predictions)"
   ]
  },
  {
   "cell_type": "code",
   "execution_count": 26,
   "id": "2a4764ad",
   "metadata": {
    "execution": {
     "iopub.execute_input": "2024-06-01T20:45:48.498996Z",
     "iopub.status.busy": "2024-06-01T20:45:48.498655Z",
     "iopub.status.idle": "2024-06-01T20:45:48.503366Z",
     "shell.execute_reply": "2024-06-01T20:45:48.502458Z"
    },
    "papermill": {
     "duration": 0.018619,
     "end_time": "2024-06-01T20:45:48.505346",
     "exception": false,
     "start_time": "2024-06-01T20:45:48.486727",
     "status": "completed"
    },
    "tags": []
   },
   "outputs": [],
   "source": [
    "numpy_arrays = [tensor.cpu().numpy() for tensor in test_predictions]\n"
   ]
  },
  {
   "cell_type": "code",
   "execution_count": 27,
   "id": "caab6b10",
   "metadata": {
    "execution": {
     "iopub.execute_input": "2024-06-01T20:45:48.528763Z",
     "iopub.status.busy": "2024-06-01T20:45:48.528488Z",
     "iopub.status.idle": "2024-06-01T20:45:48.532413Z",
     "shell.execute_reply": "2024-06-01T20:45:48.531574Z"
    },
    "papermill": {
     "duration": 0.017567,
     "end_time": "2024-06-01T20:45:48.534272",
     "exception": false,
     "start_time": "2024-06-01T20:45:48.516705",
     "status": "completed"
    },
    "tags": []
   },
   "outputs": [],
   "source": [
    "# Convert list of numpy arrays to a single numpy array\n",
    "combined_array = np.vstack(numpy_arrays)"
   ]
  },
  {
   "cell_type": "code",
   "execution_count": 28,
   "id": "593cfbf9",
   "metadata": {
    "execution": {
     "iopub.execute_input": "2024-06-01T20:45:48.557035Z",
     "iopub.status.busy": "2024-06-01T20:45:48.556709Z",
     "iopub.status.idle": "2024-06-01T20:45:48.562718Z",
     "shell.execute_reply": "2024-06-01T20:45:48.561861Z"
    },
    "papermill": {
     "duration": 0.019544,
     "end_time": "2024-06-01T20:45:48.564614",
     "exception": false,
     "start_time": "2024-06-01T20:45:48.545070",
     "status": "completed"
    },
    "tags": []
   },
   "outputs": [
    {
     "data": {
      "text/plain": [
       "array([[0.36138615, 0.35584182, 0.2827721 ],\n",
       "       [0.3452126 , 0.36576384, 0.28902358],\n",
       "       [0.34124738, 0.3455378 , 0.31321484]], dtype=float32)"
      ]
     },
     "execution_count": 28,
     "metadata": {},
     "output_type": "execute_result"
    }
   ],
   "source": [
    "combined_array"
   ]
  },
  {
   "cell_type": "code",
   "execution_count": 29,
   "id": "a7df3db2",
   "metadata": {
    "execution": {
     "iopub.execute_input": "2024-06-01T20:45:48.587721Z",
     "iopub.status.busy": "2024-06-01T20:45:48.587458Z",
     "iopub.status.idle": "2024-06-01T20:45:48.592907Z",
     "shell.execute_reply": "2024-06-01T20:45:48.592003Z"
    },
    "papermill": {
     "duration": 0.019166,
     "end_time": "2024-06-01T20:45:48.594761",
     "exception": false,
     "start_time": "2024-06-01T20:45:48.575595",
     "status": "completed"
    },
    "tags": []
   },
   "outputs": [],
   "source": [
    "submission = pd.DataFrame({\n",
    "    'id': test['id'],  # Include the 'id' column from the test dataset\n",
    "    'winner_model_a': combined_array[:, 0],  # Probability predictions for winner_model_a\n",
    "    'winner_model_b': combined_array[:, 1],  # Probability predictions for winner_model_b\n",
    "    'winner_tie': combined_array[:, 2]  # Probability predictions for winner_tie\n",
    "})"
   ]
  },
  {
   "cell_type": "code",
   "execution_count": 30,
   "id": "9349d691",
   "metadata": {
    "execution": {
     "iopub.execute_input": "2024-06-01T20:45:48.618090Z",
     "iopub.status.busy": "2024-06-01T20:45:48.617841Z",
     "iopub.status.idle": "2024-06-01T20:45:48.628499Z",
     "shell.execute_reply": "2024-06-01T20:45:48.627637Z"
    },
    "papermill": {
     "duration": 0.024706,
     "end_time": "2024-06-01T20:45:48.630342",
     "exception": false,
     "start_time": "2024-06-01T20:45:48.605636",
     "status": "completed"
    },
    "tags": []
   },
   "outputs": [
    {
     "data": {
      "text/html": [
       "<div>\n",
       "<style scoped>\n",
       "    .dataframe tbody tr th:only-of-type {\n",
       "        vertical-align: middle;\n",
       "    }\n",
       "\n",
       "    .dataframe tbody tr th {\n",
       "        vertical-align: top;\n",
       "    }\n",
       "\n",
       "    .dataframe thead th {\n",
       "        text-align: right;\n",
       "    }\n",
       "</style>\n",
       "<table border=\"1\" class=\"dataframe\">\n",
       "  <thead>\n",
       "    <tr style=\"text-align: right;\">\n",
       "      <th></th>\n",
       "      <th>id</th>\n",
       "      <th>winner_model_a</th>\n",
       "      <th>winner_model_b</th>\n",
       "      <th>winner_tie</th>\n",
       "    </tr>\n",
       "  </thead>\n",
       "  <tbody>\n",
       "    <tr>\n",
       "      <th>0</th>\n",
       "      <td>136060</td>\n",
       "      <td>0.361386</td>\n",
       "      <td>0.355842</td>\n",
       "      <td>0.282772</td>\n",
       "    </tr>\n",
       "    <tr>\n",
       "      <th>1</th>\n",
       "      <td>211333</td>\n",
       "      <td>0.345213</td>\n",
       "      <td>0.365764</td>\n",
       "      <td>0.289024</td>\n",
       "    </tr>\n",
       "    <tr>\n",
       "      <th>2</th>\n",
       "      <td>1233961</td>\n",
       "      <td>0.341247</td>\n",
       "      <td>0.345538</td>\n",
       "      <td>0.313215</td>\n",
       "    </tr>\n",
       "  </tbody>\n",
       "</table>\n",
       "</div>"
      ],
      "text/plain": [
       "        id  winner_model_a  winner_model_b  winner_tie\n",
       "0   136060        0.361386        0.355842    0.282772\n",
       "1   211333        0.345213        0.365764    0.289024\n",
       "2  1233961        0.341247        0.345538    0.313215"
      ]
     },
     "execution_count": 30,
     "metadata": {},
     "output_type": "execute_result"
    }
   ],
   "source": [
    "submission.head()"
   ]
  },
  {
   "cell_type": "code",
   "execution_count": 31,
   "id": "b75d14cc",
   "metadata": {
    "execution": {
     "iopub.execute_input": "2024-06-01T20:45:48.653592Z",
     "iopub.status.busy": "2024-06-01T20:45:48.653328Z",
     "iopub.status.idle": "2024-06-01T20:45:48.660644Z",
     "shell.execute_reply": "2024-06-01T20:45:48.659990Z"
    },
    "papermill": {
     "duration": 0.020951,
     "end_time": "2024-06-01T20:45:48.662404",
     "exception": false,
     "start_time": "2024-06-01T20:45:48.641453",
     "status": "completed"
    },
    "tags": []
   },
   "outputs": [],
   "source": [
    "submission.to_csv('submission.csv', index=False)"
   ]
  },
  {
   "cell_type": "code",
   "execution_count": null,
   "id": "b91fa7ad",
   "metadata": {
    "papermill": {
     "duration": 0.010811,
     "end_time": "2024-06-01T20:45:48.684306",
     "exception": false,
     "start_time": "2024-06-01T20:45:48.673495",
     "status": "completed"
    },
    "tags": []
   },
   "outputs": [],
   "source": []
  }
 ],
 "metadata": {
  "kaggle": {
   "accelerator": "gpu",
   "dataSources": [
    {
     "databundleVersionId": 8346466,
     "sourceId": 66631,
     "sourceType": "competition"
    }
   ],
   "dockerImageVersionId": 30698,
   "isGpuEnabled": true,
   "isInternetEnabled": false,
   "language": "python",
   "sourceType": "notebook"
  },
  "kernelspec": {
   "display_name": "Python 3",
   "language": "python",
   "name": "python3"
  },
  "language_info": {
   "codemirror_mode": {
    "name": "ipython",
    "version": 3
   },
   "file_extension": ".py",
   "mimetype": "text/x-python",
   "name": "python",
   "nbconvert_exporter": "python",
   "pygments_lexer": "ipython3",
   "version": "3.10.13"
  },
  "papermill": {
   "default_parameters": {},
   "duration": 1843.904901,
   "end_time": "2024-06-01T20:45:51.417084",
   "environment_variables": {},
   "exception": null,
   "input_path": "__notebook__.ipynb",
   "output_path": "__notebook__.ipynb",
   "parameters": {},
   "start_time": "2024-06-01T20:15:07.512183",
   "version": "2.5.0"
  }
 },
 "nbformat": 4,
 "nbformat_minor": 5
}
