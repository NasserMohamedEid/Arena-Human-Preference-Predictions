{
 "cells": [
  {
   "cell_type": "code",
   "execution_count": 1,
   "id": "1a5541c5",
   "metadata": {
    "_cell_guid": "b1076dfc-b9ad-4769-8c92-a6c4dae69d19",
    "_uuid": "8f2839f25d086af736a60e9eeb907d3b93b6e0e5",
    "execution": {
     "iopub.execute_input": "2024-05-31T13:32:39.177126Z",
     "iopub.status.busy": "2024-05-31T13:32:39.176165Z",
     "iopub.status.idle": "2024-05-31T13:32:40.047958Z",
     "shell.execute_reply": "2024-05-31T13:32:40.046792Z"
    },
    "papermill": {
     "duration": 0.884677,
     "end_time": "2024-05-31T13:32:40.050661",
     "exception": false,
     "start_time": "2024-05-31T13:32:39.165984",
     "status": "completed"
    },
    "tags": []
   },
   "outputs": [
    {
     "name": "stdout",
     "output_type": "stream",
     "text": [
      "/kaggle/input/lmsys-chatbot-arena/sample_submission.csv\n",
      "/kaggle/input/lmsys-chatbot-arena/train.csv\n",
      "/kaggle/input/lmsys-chatbot-arena/test.csv\n"
     ]
    }
   ],
   "source": [
    "# This Python 3 environment comes with many helpful analytics libraries installed\n",
    "# It is defined by the kaggle/python Docker image: https://github.com/kaggle/docker-python\n",
    "# For example, here's several helpful packages to load\n",
    "\n",
    "import numpy as np # linear algebra\n",
    "import pandas as pd # data processing, CSV file I/O (e.g. pd.read_csv)\n",
    "\n",
    "# Input data files are available in the read-only \"../input/\" directory\n",
    "# For example, running this (by clicking run or pressing Shift+Enter) will list all files under the input directory\n",
    "\n",
    "import os\n",
    "for dirname, _, filenames in os.walk('/kaggle/input'):\n",
    "    for filename in filenames:\n",
    "        print(os.path.join(dirname, filename))\n",
    "\n",
    "# You can write up to 20GB to the current directory (/kaggle/working/) that gets preserved as output when you create a version using \"Save & Run All\" \n",
    "# You can also write temporary files to /kaggle/temp/, but they won't be saved outside of the current session"
   ]
  },
  {
   "cell_type": "code",
   "execution_count": 2,
   "id": "e84f78e7",
   "metadata": {
    "execution": {
     "iopub.execute_input": "2024-05-31T13:32:40.069063Z",
     "iopub.status.busy": "2024-05-31T13:32:40.068013Z",
     "iopub.status.idle": "2024-05-31T13:32:42.147957Z",
     "shell.execute_reply": "2024-05-31T13:32:42.146715Z"
    },
    "papermill": {
     "duration": 2.091578,
     "end_time": "2024-05-31T13:32:42.150527",
     "exception": false,
     "start_time": "2024-05-31T13:32:40.058949",
     "status": "completed"
    },
    "tags": []
   },
   "outputs": [],
   "source": [
    "import os\n",
    "import numpy as np # linear algebra\n",
    "import pandas as pd # data processing, CSV file I/O (e.g. pd.read_csv)\n",
    "import regex as re\n",
    "\n",
    "from sklearn.feature_extraction.text import TfidfVectorizer\n",
    "\n",
    "from sklearn.model_selection import train_test_split\n",
    "from sklearn.metrics import classification_report, f1_score, recall_score, precision_score, accuracy_score, roc_auc_score, log_loss\n",
    "from sklearn.preprocessing import LabelEncoder\n",
    "import nltk\n",
    "from nltk.corpus import stopwords, wordnet\n",
    "from nltk.stem import PorterStemmer\n",
    "import string\n",
    "from nltk.stem import WordNetLemmatizer\n",
    "import numpy as np\n",
    "import xgboost as xgb\n",
    "from sklearn.model_selection import GridSearchCV, train_test_split\n",
    "from sklearn.datasets import load_iris  # You can replace this with any classification dataset\n",
    "from sklearn.preprocessing import LabelEncoder\n",
    "from sklearn.metrics import accuracy_score\n"
   ]
  },
  {
   "cell_type": "code",
   "execution_count": 3,
   "id": "eb357e74",
   "metadata": {
    "execution": {
     "iopub.execute_input": "2024-05-31T13:32:42.168819Z",
     "iopub.status.busy": "2024-05-31T13:32:42.167904Z",
     "iopub.status.idle": "2024-05-31T13:32:42.178593Z",
     "shell.execute_reply": "2024-05-31T13:32:42.177705Z"
    },
    "papermill": {
     "duration": 0.022147,
     "end_time": "2024-05-31T13:32:42.180849",
     "exception": false,
     "start_time": "2024-05-31T13:32:42.158702",
     "status": "completed"
    },
    "tags": []
   },
   "outputs": [],
   "source": [
    "# Define the path to the downloaded NLTK data\n",
    "nltk_data_path = '/path/to/your/nltk_data'\n",
    "\n",
    "# Tell NLTK to look for data in the specified directory\n",
    "nltk.data.path.append(nltk_data_path)\n",
    "\n",
    "# Load the necessary resources\n",
    "stop_words = set(stopwords.words('english'))\n",
    "stemmer = PorterStemmer()\n",
    "lemmatizer = WordNetLemmatizer()\n",
    "\n"
   ]
  },
  {
   "cell_type": "code",
   "execution_count": 4,
   "id": "fdbe6f93",
   "metadata": {
    "execution": {
     "iopub.execute_input": "2024-05-31T13:32:42.198545Z",
     "iopub.status.busy": "2024-05-31T13:32:42.198149Z",
     "iopub.status.idle": "2024-05-31T13:32:46.363417Z",
     "shell.execute_reply": "2024-05-31T13:32:46.362272Z"
    },
    "papermill": {
     "duration": 4.177069,
     "end_time": "2024-05-31T13:32:46.366098",
     "exception": false,
     "start_time": "2024-05-31T13:32:42.189029",
     "status": "completed"
    },
    "tags": []
   },
   "outputs": [],
   "source": [
    "train = pd.read_csv(\"/kaggle/input/lmsys-chatbot-arena/train.csv\")\n",
    "\n",
    "test = pd.read_csv(\"/kaggle/input/lmsys-chatbot-arena/test.csv\")"
   ]
  },
  {
   "cell_type": "code",
   "execution_count": 5,
   "id": "afff73a9",
   "metadata": {
    "execution": {
     "iopub.execute_input": "2024-05-31T13:32:46.383712Z",
     "iopub.status.busy": "2024-05-31T13:32:46.383336Z",
     "iopub.status.idle": "2024-05-31T13:32:46.416790Z",
     "shell.execute_reply": "2024-05-31T13:32:46.415651Z"
    },
    "papermill": {
     "duration": 0.044819,
     "end_time": "2024-05-31T13:32:46.419050",
     "exception": false,
     "start_time": "2024-05-31T13:32:46.374231",
     "status": "completed"
    },
    "tags": []
   },
   "outputs": [
    {
     "data": {
      "text/html": [
       "<div>\n",
       "<style scoped>\n",
       "    .dataframe tbody tr th:only-of-type {\n",
       "        vertical-align: middle;\n",
       "    }\n",
       "\n",
       "    .dataframe tbody tr th {\n",
       "        vertical-align: top;\n",
       "    }\n",
       "\n",
       "    .dataframe thead th {\n",
       "        text-align: right;\n",
       "    }\n",
       "</style>\n",
       "<table border=\"1\" class=\"dataframe\">\n",
       "  <thead>\n",
       "    <tr style=\"text-align: right;\">\n",
       "      <th></th>\n",
       "      <th>id</th>\n",
       "      <th>model_a</th>\n",
       "      <th>model_b</th>\n",
       "      <th>prompt</th>\n",
       "      <th>response_a</th>\n",
       "      <th>response_b</th>\n",
       "      <th>winner_model_a</th>\n",
       "      <th>winner_model_b</th>\n",
       "      <th>winner_tie</th>\n",
       "    </tr>\n",
       "  </thead>\n",
       "  <tbody>\n",
       "    <tr>\n",
       "      <th>0</th>\n",
       "      <td>30192</td>\n",
       "      <td>gpt-4-1106-preview</td>\n",
       "      <td>gpt-4-0613</td>\n",
       "      <td>[\"Is it morally right to try to have a certain...</td>\n",
       "      <td>[\"The question of whether it is morally right ...</td>\n",
       "      <td>[\"As an AI, I don't have personal beliefs or o...</td>\n",
       "      <td>1</td>\n",
       "      <td>0</td>\n",
       "      <td>0</td>\n",
       "    </tr>\n",
       "    <tr>\n",
       "      <th>1</th>\n",
       "      <td>53567</td>\n",
       "      <td>koala-13b</td>\n",
       "      <td>gpt-4-0613</td>\n",
       "      <td>[\"What is the difference between marriage lice...</td>\n",
       "      <td>[\"A marriage license is a legal document that ...</td>\n",
       "      <td>[\"A marriage license and a marriage certificat...</td>\n",
       "      <td>0</td>\n",
       "      <td>1</td>\n",
       "      <td>0</td>\n",
       "    </tr>\n",
       "    <tr>\n",
       "      <th>2</th>\n",
       "      <td>65089</td>\n",
       "      <td>gpt-3.5-turbo-0613</td>\n",
       "      <td>mistral-medium</td>\n",
       "      <td>[\"explain function calling. how would you call...</td>\n",
       "      <td>[\"Function calling is the process of invoking ...</td>\n",
       "      <td>[\"Function calling is the process of invoking ...</td>\n",
       "      <td>0</td>\n",
       "      <td>0</td>\n",
       "      <td>1</td>\n",
       "    </tr>\n",
       "    <tr>\n",
       "      <th>3</th>\n",
       "      <td>96401</td>\n",
       "      <td>llama-2-13b-chat</td>\n",
       "      <td>mistral-7b-instruct</td>\n",
       "      <td>[\"How can I create a test set for a very rare ...</td>\n",
       "      <td>[\"Creating a test set for a very rare category...</td>\n",
       "      <td>[\"When building a classifier for a very rare c...</td>\n",
       "      <td>1</td>\n",
       "      <td>0</td>\n",
       "      <td>0</td>\n",
       "    </tr>\n",
       "    <tr>\n",
       "      <th>4</th>\n",
       "      <td>198779</td>\n",
       "      <td>koala-13b</td>\n",
       "      <td>gpt-3.5-turbo-0314</td>\n",
       "      <td>[\"What is the best way to travel from Tel-Aviv...</td>\n",
       "      <td>[\"The best way to travel from Tel Aviv to Jeru...</td>\n",
       "      <td>[\"The best way to travel from Tel-Aviv to Jeru...</td>\n",
       "      <td>0</td>\n",
       "      <td>1</td>\n",
       "      <td>0</td>\n",
       "    </tr>\n",
       "    <tr>\n",
       "      <th>...</th>\n",
       "      <td>...</td>\n",
       "      <td>...</td>\n",
       "      <td>...</td>\n",
       "      <td>...</td>\n",
       "      <td>...</td>\n",
       "      <td>...</td>\n",
       "      <td>...</td>\n",
       "      <td>...</td>\n",
       "      <td>...</td>\n",
       "    </tr>\n",
       "    <tr>\n",
       "      <th>57472</th>\n",
       "      <td>4294656694</td>\n",
       "      <td>gpt-4-0613</td>\n",
       "      <td>claude-1</td>\n",
       "      <td>[\"A simple mnemonic for \\u03c0:\\n\\\"How I wish ...</td>\n",
       "      <td>[\"Sure, let's break it down:\\n\\n1. \\\"How\\\" has...</td>\n",
       "      <td>[\"Here is how that mnemonic represents the dig...</td>\n",
       "      <td>1</td>\n",
       "      <td>0</td>\n",
       "      <td>0</td>\n",
       "    </tr>\n",
       "    <tr>\n",
       "      <th>57473</th>\n",
       "      <td>4294692063</td>\n",
       "      <td>claude-2.0</td>\n",
       "      <td>llama-2-13b-chat</td>\n",
       "      <td>[\"In python, implement a naive Bayes with gaus...</td>\n",
       "      <td>[\"Here is an implementation of a naive Bayes c...</td>\n",
       "      <td>[\"Sure! Here's an implementation of a naive Ba...</td>\n",
       "      <td>1</td>\n",
       "      <td>0</td>\n",
       "      <td>0</td>\n",
       "    </tr>\n",
       "    <tr>\n",
       "      <th>57474</th>\n",
       "      <td>4294710549</td>\n",
       "      <td>claude-1</td>\n",
       "      <td>alpaca-13b</td>\n",
       "      <td>[\"is it unethical to work on building weapons?...</td>\n",
       "      <td>[\"Working on weapons technology raises some et...</td>\n",
       "      <td>[\"It depends on the context. Weapons can be us...</td>\n",
       "      <td>1</td>\n",
       "      <td>0</td>\n",
       "      <td>0</td>\n",
       "    </tr>\n",
       "    <tr>\n",
       "      <th>57475</th>\n",
       "      <td>4294899228</td>\n",
       "      <td>palm-2</td>\n",
       "      <td>tulu-2-dpo-70b</td>\n",
       "      <td>[\"If a bait contains 0,0025% bromadiolon then ...</td>\n",
       "      <td>[\"Bromadiolone is a rodenticide which is most ...</td>\n",
       "      <td>[\"As an AI language model, I do not promote or...</td>\n",
       "      <td>0</td>\n",
       "      <td>1</td>\n",
       "      <td>0</td>\n",
       "    </tr>\n",
       "    <tr>\n",
       "      <th>57476</th>\n",
       "      <td>4294947231</td>\n",
       "      <td>gemini-pro-dev-api</td>\n",
       "      <td>gpt-4-1106-preview</td>\n",
       "      <td>[\"three kids eat three apples in three days, h...</td>\n",
       "      <td>[\"27 apples\"]</td>\n",
       "      <td>[\"If three kids eat three apples in three days...</td>\n",
       "      <td>1</td>\n",
       "      <td>0</td>\n",
       "      <td>0</td>\n",
       "    </tr>\n",
       "  </tbody>\n",
       "</table>\n",
       "<p>57477 rows × 9 columns</p>\n",
       "</div>"
      ],
      "text/plain": [
       "               id             model_a              model_b  \\\n",
       "0           30192  gpt-4-1106-preview           gpt-4-0613   \n",
       "1           53567           koala-13b           gpt-4-0613   \n",
       "2           65089  gpt-3.5-turbo-0613       mistral-medium   \n",
       "3           96401    llama-2-13b-chat  mistral-7b-instruct   \n",
       "4          198779           koala-13b   gpt-3.5-turbo-0314   \n",
       "...           ...                 ...                  ...   \n",
       "57472  4294656694          gpt-4-0613             claude-1   \n",
       "57473  4294692063          claude-2.0     llama-2-13b-chat   \n",
       "57474  4294710549            claude-1           alpaca-13b   \n",
       "57475  4294899228              palm-2       tulu-2-dpo-70b   \n",
       "57476  4294947231  gemini-pro-dev-api   gpt-4-1106-preview   \n",
       "\n",
       "                                                  prompt  \\\n",
       "0      [\"Is it morally right to try to have a certain...   \n",
       "1      [\"What is the difference between marriage lice...   \n",
       "2      [\"explain function calling. how would you call...   \n",
       "3      [\"How can I create a test set for a very rare ...   \n",
       "4      [\"What is the best way to travel from Tel-Aviv...   \n",
       "...                                                  ...   \n",
       "57472  [\"A simple mnemonic for \\u03c0:\\n\\\"How I wish ...   \n",
       "57473  [\"In python, implement a naive Bayes with gaus...   \n",
       "57474  [\"is it unethical to work on building weapons?...   \n",
       "57475  [\"If a bait contains 0,0025% bromadiolon then ...   \n",
       "57476  [\"three kids eat three apples in three days, h...   \n",
       "\n",
       "                                              response_a  \\\n",
       "0      [\"The question of whether it is morally right ...   \n",
       "1      [\"A marriage license is a legal document that ...   \n",
       "2      [\"Function calling is the process of invoking ...   \n",
       "3      [\"Creating a test set for a very rare category...   \n",
       "4      [\"The best way to travel from Tel Aviv to Jeru...   \n",
       "...                                                  ...   \n",
       "57472  [\"Sure, let's break it down:\\n\\n1. \\\"How\\\" has...   \n",
       "57473  [\"Here is an implementation of a naive Bayes c...   \n",
       "57474  [\"Working on weapons technology raises some et...   \n",
       "57475  [\"Bromadiolone is a rodenticide which is most ...   \n",
       "57476                                      [\"27 apples\"]   \n",
       "\n",
       "                                              response_b  winner_model_a  \\\n",
       "0      [\"As an AI, I don't have personal beliefs or o...               1   \n",
       "1      [\"A marriage license and a marriage certificat...               0   \n",
       "2      [\"Function calling is the process of invoking ...               0   \n",
       "3      [\"When building a classifier for a very rare c...               1   \n",
       "4      [\"The best way to travel from Tel-Aviv to Jeru...               0   \n",
       "...                                                  ...             ...   \n",
       "57472  [\"Here is how that mnemonic represents the dig...               1   \n",
       "57473  [\"Sure! Here's an implementation of a naive Ba...               1   \n",
       "57474  [\"It depends on the context. Weapons can be us...               1   \n",
       "57475  [\"As an AI language model, I do not promote or...               0   \n",
       "57476  [\"If three kids eat three apples in three days...               1   \n",
       "\n",
       "       winner_model_b  winner_tie  \n",
       "0                   0           0  \n",
       "1                   1           0  \n",
       "2                   0           1  \n",
       "3                   0           0  \n",
       "4                   1           0  \n",
       "...               ...         ...  \n",
       "57472               0           0  \n",
       "57473               0           0  \n",
       "57474               0           0  \n",
       "57475               1           0  \n",
       "57476               0           0  \n",
       "\n",
       "[57477 rows x 9 columns]"
      ]
     },
     "execution_count": 5,
     "metadata": {},
     "output_type": "execute_result"
    }
   ],
   "source": [
    "train"
   ]
  },
  {
   "cell_type": "code",
   "execution_count": 6,
   "id": "1335a20a",
   "metadata": {
    "execution": {
     "iopub.execute_input": "2024-05-31T13:32:46.437605Z",
     "iopub.status.busy": "2024-05-31T13:32:46.436838Z",
     "iopub.status.idle": "2024-05-31T13:32:46.447281Z",
     "shell.execute_reply": "2024-05-31T13:32:46.446295Z"
    },
    "papermill": {
     "duration": 0.022367,
     "end_time": "2024-05-31T13:32:46.449785",
     "exception": false,
     "start_time": "2024-05-31T13:32:46.427418",
     "status": "completed"
    },
    "tags": []
   },
   "outputs": [
    {
     "data": {
      "text/html": [
       "<div>\n",
       "<style scoped>\n",
       "    .dataframe tbody tr th:only-of-type {\n",
       "        vertical-align: middle;\n",
       "    }\n",
       "\n",
       "    .dataframe tbody tr th {\n",
       "        vertical-align: top;\n",
       "    }\n",
       "\n",
       "    .dataframe thead th {\n",
       "        text-align: right;\n",
       "    }\n",
       "</style>\n",
       "<table border=\"1\" class=\"dataframe\">\n",
       "  <thead>\n",
       "    <tr style=\"text-align: right;\">\n",
       "      <th></th>\n",
       "      <th>id</th>\n",
       "      <th>prompt</th>\n",
       "      <th>response_a</th>\n",
       "      <th>response_b</th>\n",
       "    </tr>\n",
       "  </thead>\n",
       "  <tbody>\n",
       "    <tr>\n",
       "      <th>0</th>\n",
       "      <td>136060</td>\n",
       "      <td>[\"I have three oranges today, I ate an orange ...</td>\n",
       "      <td>[\"You have two oranges today.\"]</td>\n",
       "      <td>[\"You still have three oranges. Eating an oran...</td>\n",
       "    </tr>\n",
       "    <tr>\n",
       "      <th>1</th>\n",
       "      <td>211333</td>\n",
       "      <td>[\"You are a mediator in a heated political deb...</td>\n",
       "      <td>[\"Thank you for sharing the details of the sit...</td>\n",
       "      <td>[\"Mr Reddy and Ms Blue both have valid points ...</td>\n",
       "    </tr>\n",
       "    <tr>\n",
       "      <th>2</th>\n",
       "      <td>1233961</td>\n",
       "      <td>[\"How to initialize the classification head wh...</td>\n",
       "      <td>[\"When you want to initialize the classificati...</td>\n",
       "      <td>[\"To initialize the classification head when p...</td>\n",
       "    </tr>\n",
       "  </tbody>\n",
       "</table>\n",
       "</div>"
      ],
      "text/plain": [
       "        id                                             prompt  \\\n",
       "0   136060  [\"I have three oranges today, I ate an orange ...   \n",
       "1   211333  [\"You are a mediator in a heated political deb...   \n",
       "2  1233961  [\"How to initialize the classification head wh...   \n",
       "\n",
       "                                          response_a  \\\n",
       "0                    [\"You have two oranges today.\"]   \n",
       "1  [\"Thank you for sharing the details of the sit...   \n",
       "2  [\"When you want to initialize the classificati...   \n",
       "\n",
       "                                          response_b  \n",
       "0  [\"You still have three oranges. Eating an oran...  \n",
       "1  [\"Mr Reddy and Ms Blue both have valid points ...  \n",
       "2  [\"To initialize the classification head when p...  "
      ]
     },
     "execution_count": 6,
     "metadata": {},
     "output_type": "execute_result"
    }
   ],
   "source": [
    "test"
   ]
  },
  {
   "cell_type": "code",
   "execution_count": 7,
   "id": "3d1e10be",
   "metadata": {
    "execution": {
     "iopub.execute_input": "2024-05-31T13:32:46.473130Z",
     "iopub.status.busy": "2024-05-31T13:32:46.472126Z",
     "iopub.status.idle": "2024-05-31T13:32:46.477463Z",
     "shell.execute_reply": "2024-05-31T13:32:46.476459Z"
    },
    "papermill": {
     "duration": 0.0176,
     "end_time": "2024-05-31T13:32:46.479648",
     "exception": false,
     "start_time": "2024-05-31T13:32:46.462048",
     "status": "completed"
    },
    "tags": []
   },
   "outputs": [],
   "source": [
    "target_columns = ['winner_model_a', 'winner_model_b', 'winner_tie']"
   ]
  },
  {
   "cell_type": "code",
   "execution_count": 8,
   "id": "9f54a5f5",
   "metadata": {
    "execution": {
     "iopub.execute_input": "2024-05-31T13:32:46.499150Z",
     "iopub.status.busy": "2024-05-31T13:32:46.498136Z",
     "iopub.status.idle": "2024-05-31T13:32:46.536715Z",
     "shell.execute_reply": "2024-05-31T13:32:46.535650Z"
    },
    "papermill": {
     "duration": 0.051304,
     "end_time": "2024-05-31T13:32:46.539633",
     "exception": false,
     "start_time": "2024-05-31T13:32:46.488329",
     "status": "completed"
    },
    "tags": []
   },
   "outputs": [],
   "source": [
    "y = train[target_columns].idxmax(axis=1) \n",
    "\n",
    "# Encode labels\n",
    "label_encoder = LabelEncoder()\n",
    "y_encoded = label_encoder.fit_transform(y)"
   ]
  },
  {
   "cell_type": "code",
   "execution_count": 9,
   "id": "ad05af7d",
   "metadata": {
    "execution": {
     "iopub.execute_input": "2024-05-31T13:32:46.565823Z",
     "iopub.status.busy": "2024-05-31T13:32:46.564832Z",
     "iopub.status.idle": "2024-05-31T13:32:46.572167Z",
     "shell.execute_reply": "2024-05-31T13:32:46.571076Z"
    },
    "papermill": {
     "duration": 0.021368,
     "end_time": "2024-05-31T13:32:46.574389",
     "exception": false,
     "start_time": "2024-05-31T13:32:46.553021",
     "status": "completed"
    },
    "tags": []
   },
   "outputs": [
    {
     "data": {
      "text/plain": [
       "array([0, 1, 2, ..., 0, 1, 0])"
      ]
     },
     "execution_count": 9,
     "metadata": {},
     "output_type": "execute_result"
    }
   ],
   "source": [
    "y_encoded"
   ]
  },
  {
   "cell_type": "code",
   "execution_count": 10,
   "id": "0b53aa87",
   "metadata": {
    "execution": {
     "iopub.execute_input": "2024-05-31T13:32:46.593333Z",
     "iopub.status.busy": "2024-05-31T13:32:46.592870Z",
     "iopub.status.idle": "2024-05-31T13:32:46.912868Z",
     "shell.execute_reply": "2024-05-31T13:32:46.911703Z"
    },
    "papermill": {
     "duration": 0.332574,
     "end_time": "2024-05-31T13:32:46.915522",
     "exception": false,
     "start_time": "2024-05-31T13:32:46.582948",
     "status": "completed"
    },
    "tags": []
   },
   "outputs": [],
   "source": [
    "text=train[\"prompt\"]+\" \"+train[\"response_a\"]+\" \"+train[\"response_b\"]"
   ]
  },
  {
   "cell_type": "code",
   "execution_count": 11,
   "id": "d4a5f139",
   "metadata": {
    "execution": {
     "iopub.execute_input": "2024-05-31T13:32:46.934749Z",
     "iopub.status.busy": "2024-05-31T13:32:46.934357Z",
     "iopub.status.idle": "2024-05-31T13:32:46.942154Z",
     "shell.execute_reply": "2024-05-31T13:32:46.941224Z"
    },
    "papermill": {
     "duration": 0.019892,
     "end_time": "2024-05-31T13:32:46.944461",
     "exception": false,
     "start_time": "2024-05-31T13:32:46.924569",
     "status": "completed"
    },
    "tags": []
   },
   "outputs": [
    {
     "data": {
      "text/plain": [
       "0        [\"Is it morally right to try to have a certain...\n",
       "1        [\"What is the difference between marriage lice...\n",
       "2        [\"explain function calling. how would you call...\n",
       "3        [\"How can I create a test set for a very rare ...\n",
       "4        [\"What is the best way to travel from Tel-Aviv...\n",
       "                               ...                        \n",
       "57472    [\"A simple mnemonic for \\u03c0:\\n\\\"How I wish ...\n",
       "57473    [\"In python, implement a naive Bayes with gaus...\n",
       "57474    [\"is it unethical to work on building weapons?...\n",
       "57475    [\"If a bait contains 0,0025% bromadiolon then ...\n",
       "57476    [\"three kids eat three apples in three days, h...\n",
       "Length: 57477, dtype: object"
      ]
     },
     "execution_count": 11,
     "metadata": {},
     "output_type": "execute_result"
    }
   ],
   "source": [
    "text"
   ]
  },
  {
   "cell_type": "code",
   "execution_count": 12,
   "id": "69a67266",
   "metadata": {
    "execution": {
     "iopub.execute_input": "2024-05-31T13:32:46.963680Z",
     "iopub.status.busy": "2024-05-31T13:32:46.963322Z",
     "iopub.status.idle": "2024-05-31T13:32:46.968851Z",
     "shell.execute_reply": "2024-05-31T13:32:46.967800Z"
    },
    "papermill": {
     "duration": 0.017801,
     "end_time": "2024-05-31T13:32:46.970973",
     "exception": false,
     "start_time": "2024-05-31T13:32:46.953172",
     "status": "completed"
    },
    "tags": []
   },
   "outputs": [],
   "source": [
    "test_data=test[\"prompt\"]+\" \"+test[\"response_a\"]+\" \"+test[\"response_b\"]"
   ]
  },
  {
   "cell_type": "markdown",
   "id": "c50e539f",
   "metadata": {
    "papermill": {
     "duration": 0.008304,
     "end_time": "2024-05-31T13:32:46.988025",
     "exception": false,
     "start_time": "2024-05-31T13:32:46.979721",
     "status": "completed"
    },
    "tags": []
   },
   "source": [
    "## clean text "
   ]
  },
  {
   "cell_type": "code",
   "execution_count": 13,
   "id": "fb5d674d",
   "metadata": {
    "execution": {
     "iopub.execute_input": "2024-05-31T13:32:47.007820Z",
     "iopub.status.busy": "2024-05-31T13:32:47.007457Z",
     "iopub.status.idle": "2024-05-31T13:32:47.016199Z",
     "shell.execute_reply": "2024-05-31T13:32:47.015233Z"
    },
    "papermill": {
     "duration": 0.020697,
     "end_time": "2024-05-31T13:32:47.018371",
     "exception": false,
     "start_time": "2024-05-31T13:32:46.997674",
     "status": "completed"
    },
    "tags": []
   },
   "outputs": [],
   "source": [
    "def clean_text(text):\n",
    "    # Replace escaped characters with their actual representations\n",
    "    text = text.replace(r'\\\"', '\"')\n",
    "    text = text.replace(r\"\\'\", \"'\")\n",
    "    text = text.replace(r\"\\\\n\", \" \")\n",
    "    text = text.replace(r\"\\\\/\\\\/\", \"//\")\n",
    "    \n",
    "    # Remove code block markers\n",
    "    text = re.sub(r'```.*?```', '', text, flags=re.DOTALL)\n",
    "    \n",
    "    # Convert to lowercase\n",
    "    text = text.lower()\n",
    "    \n",
    "    # Remove punctuation\n",
    "    text = text.translate(str.maketrans('', '', string.punctuation))\n",
    "    \n",
    "    # Normalize whitespace\n",
    "    text = re.sub(r'\\s+', ' ', text).strip()\n",
    "    \n",
    "    return text\n",
    "\n",
    "# Function to remove stop words\n",
    "def remove_stop_words(text):\n",
    "    words = text.split()\n",
    "    filtered_words = [word for word in words if word not in stop_words]\n",
    "    return ' '.join(filtered_words)\n",
    "\n",
    "# Function to apply stemming\n",
    "def apply_stemming(text):\n",
    "    words = text.split()\n",
    "    stemmed_words = [stemmer.stem(word) for word in words]\n",
    "    return ' '.join(stemmed_words)\n",
    "\n",
    "# Combined preprocessing function\n",
    "def preprocess_text(text):\n",
    "    text = clean_text(text)\n",
    "    text = remove_stop_words(text)\n",
    "    text = apply_stemming(text)\n",
    "    return text\n",
    "\n"
   ]
  },
  {
   "cell_type": "code",
   "execution_count": 14,
   "id": "18f0a2dd",
   "metadata": {
    "execution": {
     "iopub.execute_input": "2024-05-31T13:32:47.037557Z",
     "iopub.status.busy": "2024-05-31T13:32:47.037152Z",
     "iopub.status.idle": "2024-05-31T13:39:52.576712Z",
     "shell.execute_reply": "2024-05-31T13:39:52.575336Z"
    },
    "papermill": {
     "duration": 425.552044,
     "end_time": "2024-05-31T13:39:52.579348",
     "exception": false,
     "start_time": "2024-05-31T13:32:47.027304",
     "status": "completed"
    },
    "tags": []
   },
   "outputs": [],
   "source": [
    "clean_train=text.apply(preprocess_text)"
   ]
  },
  {
   "cell_type": "code",
   "execution_count": 15,
   "id": "76a9108b",
   "metadata": {
    "execution": {
     "iopub.execute_input": "2024-05-31T13:39:52.598628Z",
     "iopub.status.busy": "2024-05-31T13:39:52.598257Z",
     "iopub.status.idle": "2024-05-31T13:39:52.626904Z",
     "shell.execute_reply": "2024-05-31T13:39:52.625874Z"
    },
    "papermill": {
     "duration": 0.040792,
     "end_time": "2024-05-31T13:39:52.629299",
     "exception": false,
     "start_time": "2024-05-31T13:39:52.588507",
     "status": "completed"
    },
    "tags": []
   },
   "outputs": [],
   "source": [
    "clean_test=test_data.apply(preprocess_text)"
   ]
  },
  {
   "cell_type": "code",
   "execution_count": null,
   "id": "36a7a1c0",
   "metadata": {
    "papermill": {
     "duration": 0.008969,
     "end_time": "2024-05-31T13:39:52.647416",
     "exception": false,
     "start_time": "2024-05-31T13:39:52.638447",
     "status": "completed"
    },
    "tags": []
   },
   "outputs": [],
   "source": []
  },
  {
   "cell_type": "markdown",
   "id": "8a4228bd",
   "metadata": {
    "papermill": {
     "duration": 0.008389,
     "end_time": "2024-05-31T13:39:52.664560",
     "exception": false,
     "start_time": "2024-05-31T13:39:52.656171",
     "status": "completed"
    },
    "tags": []
   },
   "source": [
    "## TFIDF"
   ]
  },
  {
   "cell_type": "code",
   "execution_count": 16,
   "id": "f49bba14",
   "metadata": {
    "execution": {
     "iopub.execute_input": "2024-05-31T13:39:52.683874Z",
     "iopub.status.busy": "2024-05-31T13:39:52.683123Z",
     "iopub.status.idle": "2024-05-31T13:39:52.687759Z",
     "shell.execute_reply": "2024-05-31T13:39:52.686674Z"
    },
    "papermill": {
     "duration": 0.016483,
     "end_time": "2024-05-31T13:39:52.689845",
     "exception": false,
     "start_time": "2024-05-31T13:39:52.673362",
     "status": "completed"
    },
    "tags": []
   },
   "outputs": [],
   "source": [
    "from sklearn.feature_extraction.text import TfidfVectorizer"
   ]
  },
  {
   "cell_type": "code",
   "execution_count": 17,
   "id": "08a4a488",
   "metadata": {
    "execution": {
     "iopub.execute_input": "2024-05-31T13:39:52.708890Z",
     "iopub.status.busy": "2024-05-31T13:39:52.708546Z",
     "iopub.status.idle": "2024-05-31T13:40:07.274320Z",
     "shell.execute_reply": "2024-05-31T13:40:07.273205Z"
    },
    "papermill": {
     "duration": 14.577671,
     "end_time": "2024-05-31T13:40:07.276421",
     "exception": false,
     "start_time": "2024-05-31T13:39:52.698750",
     "status": "completed"
    },
    "tags": []
   },
   "outputs": [
    {
     "data": {
      "text/html": [
       "<style>#sk-container-id-1 {color: black;background-color: white;}#sk-container-id-1 pre{padding: 0;}#sk-container-id-1 div.sk-toggleable {background-color: white;}#sk-container-id-1 label.sk-toggleable__label {cursor: pointer;display: block;width: 100%;margin-bottom: 0;padding: 0.3em;box-sizing: border-box;text-align: center;}#sk-container-id-1 label.sk-toggleable__label-arrow:before {content: \"▸\";float: left;margin-right: 0.25em;color: #696969;}#sk-container-id-1 label.sk-toggleable__label-arrow:hover:before {color: black;}#sk-container-id-1 div.sk-estimator:hover label.sk-toggleable__label-arrow:before {color: black;}#sk-container-id-1 div.sk-toggleable__content {max-height: 0;max-width: 0;overflow: hidden;text-align: left;background-color: #f0f8ff;}#sk-container-id-1 div.sk-toggleable__content pre {margin: 0.2em;color: black;border-radius: 0.25em;background-color: #f0f8ff;}#sk-container-id-1 input.sk-toggleable__control:checked~div.sk-toggleable__content {max-height: 200px;max-width: 100%;overflow: auto;}#sk-container-id-1 input.sk-toggleable__control:checked~label.sk-toggleable__label-arrow:before {content: \"▾\";}#sk-container-id-1 div.sk-estimator input.sk-toggleable__control:checked~label.sk-toggleable__label {background-color: #d4ebff;}#sk-container-id-1 div.sk-label input.sk-toggleable__control:checked~label.sk-toggleable__label {background-color: #d4ebff;}#sk-container-id-1 input.sk-hidden--visually {border: 0;clip: rect(1px 1px 1px 1px);clip: rect(1px, 1px, 1px, 1px);height: 1px;margin: -1px;overflow: hidden;padding: 0;position: absolute;width: 1px;}#sk-container-id-1 div.sk-estimator {font-family: monospace;background-color: #f0f8ff;border: 1px dotted black;border-radius: 0.25em;box-sizing: border-box;margin-bottom: 0.5em;}#sk-container-id-1 div.sk-estimator:hover {background-color: #d4ebff;}#sk-container-id-1 div.sk-parallel-item::after {content: \"\";width: 100%;border-bottom: 1px solid gray;flex-grow: 1;}#sk-container-id-1 div.sk-label:hover label.sk-toggleable__label {background-color: #d4ebff;}#sk-container-id-1 div.sk-serial::before {content: \"\";position: absolute;border-left: 1px solid gray;box-sizing: border-box;top: 0;bottom: 0;left: 50%;z-index: 0;}#sk-container-id-1 div.sk-serial {display: flex;flex-direction: column;align-items: center;background-color: white;padding-right: 0.2em;padding-left: 0.2em;position: relative;}#sk-container-id-1 div.sk-item {position: relative;z-index: 1;}#sk-container-id-1 div.sk-parallel {display: flex;align-items: stretch;justify-content: center;background-color: white;position: relative;}#sk-container-id-1 div.sk-item::before, #sk-container-id-1 div.sk-parallel-item::before {content: \"\";position: absolute;border-left: 1px solid gray;box-sizing: border-box;top: 0;bottom: 0;left: 50%;z-index: -1;}#sk-container-id-1 div.sk-parallel-item {display: flex;flex-direction: column;z-index: 1;position: relative;background-color: white;}#sk-container-id-1 div.sk-parallel-item:first-child::after {align-self: flex-end;width: 50%;}#sk-container-id-1 div.sk-parallel-item:last-child::after {align-self: flex-start;width: 50%;}#sk-container-id-1 div.sk-parallel-item:only-child::after {width: 0;}#sk-container-id-1 div.sk-dashed-wrapped {border: 1px dashed gray;margin: 0 0.4em 0.5em 0.4em;box-sizing: border-box;padding-bottom: 0.4em;background-color: white;}#sk-container-id-1 div.sk-label label {font-family: monospace;font-weight: bold;display: inline-block;line-height: 1.2em;}#sk-container-id-1 div.sk-label-container {text-align: center;}#sk-container-id-1 div.sk-container {/* jupyter's `normalize.less` sets `[hidden] { display: none; }` but bootstrap.min.css set `[hidden] { display: none !important; }` so we also need the `!important` here to be able to override the default hidden behavior on the sphinx rendered scikit-learn.org. See: https://github.com/scikit-learn/scikit-learn/issues/21755 */display: inline-block !important;position: relative;}#sk-container-id-1 div.sk-text-repr-fallback {display: none;}</style><div id=\"sk-container-id-1\" class=\"sk-top-container\"><div class=\"sk-text-repr-fallback\"><pre>TfidfVectorizer()</pre><b>In a Jupyter environment, please rerun this cell to show the HTML representation or trust the notebook. <br />On GitHub, the HTML representation is unable to render, please try loading this page with nbviewer.org.</b></div><div class=\"sk-container\" hidden><div class=\"sk-item\"><div class=\"sk-estimator sk-toggleable\"><input class=\"sk-toggleable__control sk-hidden--visually\" id=\"sk-estimator-id-1\" type=\"checkbox\" checked><label for=\"sk-estimator-id-1\" class=\"sk-toggleable__label sk-toggleable__label-arrow\">TfidfVectorizer</label><div class=\"sk-toggleable__content\"><pre>TfidfVectorizer()</pre></div></div></div></div></div>"
      ],
      "text/plain": [
       "TfidfVectorizer()"
      ]
     },
     "execution_count": 17,
     "metadata": {},
     "output_type": "execute_result"
    }
   ],
   "source": [
    "vectorizer = TfidfVectorizer()\n",
    "vectorizer.fit(clean_train)"
   ]
  },
  {
   "cell_type": "code",
   "execution_count": 18,
   "id": "7d1ee573",
   "metadata": {
    "execution": {
     "iopub.execute_input": "2024-05-31T13:40:07.295786Z",
     "iopub.status.busy": "2024-05-31T13:40:07.295422Z",
     "iopub.status.idle": "2024-05-31T13:40:19.978889Z",
     "shell.execute_reply": "2024-05-31T13:40:19.977584Z"
    },
    "papermill": {
     "duration": 12.695991,
     "end_time": "2024-05-31T13:40:19.981450",
     "exception": false,
     "start_time": "2024-05-31T13:40:07.285459",
     "status": "completed"
    },
    "tags": []
   },
   "outputs": [],
   "source": [
    "X_train=vectorizer.transform(clean_train)"
   ]
  },
  {
   "cell_type": "code",
   "execution_count": 19,
   "id": "152ffc25",
   "metadata": {
    "execution": {
     "iopub.execute_input": "2024-05-31T13:40:20.002224Z",
     "iopub.status.busy": "2024-05-31T13:40:20.001421Z",
     "iopub.status.idle": "2024-05-31T13:40:20.015686Z",
     "shell.execute_reply": "2024-05-31T13:40:20.014744Z"
    },
    "papermill": {
     "duration": 0.02703,
     "end_time": "2024-05-31T13:40:20.018057",
     "exception": false,
     "start_time": "2024-05-31T13:40:19.991027",
     "status": "completed"
    },
    "tags": []
   },
   "outputs": [],
   "source": [
    "X_test=vectorizer.transform(clean_test)"
   ]
  },
  {
   "cell_type": "code",
   "execution_count": 20,
   "id": "8d4a4e3e",
   "metadata": {
    "execution": {
     "iopub.execute_input": "2024-05-31T13:40:20.037879Z",
     "iopub.status.busy": "2024-05-31T13:40:20.037524Z",
     "iopub.status.idle": "2024-05-31T13:40:20.042074Z",
     "shell.execute_reply": "2024-05-31T13:40:20.040998Z"
    },
    "papermill": {
     "duration": 0.016828,
     "end_time": "2024-05-31T13:40:20.044124",
     "exception": false,
     "start_time": "2024-05-31T13:40:20.027296",
     "status": "completed"
    },
    "tags": []
   },
   "outputs": [],
   "source": [
    "random_state = 42\n"
   ]
  },
  {
   "cell_type": "code",
   "execution_count": 21,
   "id": "2b7b2498",
   "metadata": {
    "execution": {
     "iopub.execute_input": "2024-05-31T13:40:20.064773Z",
     "iopub.status.busy": "2024-05-31T13:40:20.063914Z",
     "iopub.status.idle": "2024-05-31T13:40:20.107105Z",
     "shell.execute_reply": "2024-05-31T13:40:20.106163Z"
    },
    "papermill": {
     "duration": 0.056261,
     "end_time": "2024-05-31T13:40:20.109859",
     "exception": false,
     "start_time": "2024-05-31T13:40:20.053598",
     "status": "completed"
    },
    "tags": []
   },
   "outputs": [],
   "source": [
    "X_train, X_val, y_train, y_val = train_test_split(X_train, y_encoded, test_size=0.1, random_state=random_state)\n"
   ]
  },
  {
   "cell_type": "markdown",
   "id": "040a9904",
   "metadata": {
    "papermill": {
     "duration": 0.00869,
     "end_time": "2024-05-31T13:40:20.127700",
     "exception": false,
     "start_time": "2024-05-31T13:40:20.119010",
     "status": "completed"
    },
    "tags": []
   },
   "source": [
    "## Model"
   ]
  },
  {
   "cell_type": "code",
   "execution_count": 22,
   "id": "ac5ff449",
   "metadata": {
    "execution": {
     "iopub.execute_input": "2024-05-31T13:40:20.147358Z",
     "iopub.status.busy": "2024-05-31T13:40:20.146975Z",
     "iopub.status.idle": "2024-05-31T13:40:20.151941Z",
     "shell.execute_reply": "2024-05-31T13:40:20.150962Z"
    },
    "papermill": {
     "duration": 0.01729,
     "end_time": "2024-05-31T13:40:20.154034",
     "exception": false,
     "start_time": "2024-05-31T13:40:20.136744",
     "status": "completed"
    },
    "tags": []
   },
   "outputs": [],
   "source": [
    "from sklearn.metrics import accuracy_score, precision_score, recall_score, f1_score, confusion_matrix, classification_report\n",
    "import xgboost as xgb"
   ]
  },
  {
   "cell_type": "code",
   "execution_count": 23,
   "id": "1763c6bf",
   "metadata": {
    "execution": {
     "iopub.execute_input": "2024-05-31T13:40:20.173936Z",
     "iopub.status.busy": "2024-05-31T13:40:20.173546Z",
     "iopub.status.idle": "2024-05-31T13:40:20.178330Z",
     "shell.execute_reply": "2024-05-31T13:40:20.177118Z"
    },
    "papermill": {
     "duration": 0.017372,
     "end_time": "2024-05-31T13:40:20.180446",
     "exception": false,
     "start_time": "2024-05-31T13:40:20.163074",
     "status": "completed"
    },
    "tags": []
   },
   "outputs": [],
   "source": [
    "# print(\"Best parameters found: \", grid_search.best_params_)\n",
    "\n",
    "# print(\"Best accuracy found: \", grid_search.best_score_)\n",
    "\n",
    "## Best parameters found:  {'learning_rate': 0.01, 'max_depth': 4, 'n_estimators': 150}\n",
    "##Best accuracy found:  0.3746715024752941"
   ]
  },
  {
   "cell_type": "code",
   "execution_count": 24,
   "id": "4d31620e",
   "metadata": {
    "execution": {
     "iopub.execute_input": "2024-05-31T13:40:20.201084Z",
     "iopub.status.busy": "2024-05-31T13:40:20.200117Z",
     "iopub.status.idle": "2024-05-31T13:40:20.205597Z",
     "shell.execute_reply": "2024-05-31T13:40:20.204581Z"
    },
    "papermill": {
     "duration": 0.018105,
     "end_time": "2024-05-31T13:40:20.207755",
     "exception": false,
     "start_time": "2024-05-31T13:40:20.189650",
     "status": "completed"
    },
    "tags": []
   },
   "outputs": [],
   "source": [
    "model = xgb.XGBClassifier(use_label_encoder=False, eval_metric='mlogloss', seed=random_state)\n",
    "\n",
    "param_grid = {\n",
    "    'n_estimators': 150,  # Should be an integer, not a list\n",
    "    'max_depth': 8,       # Should be an integer, not a list\n",
    "    'learning_rate': 0.01 # Should be a float, not a list\n",
    "}\n",
    "\n"
   ]
  },
  {
   "cell_type": "code",
   "execution_count": 25,
   "id": "3dac00ad",
   "metadata": {
    "execution": {
     "iopub.execute_input": "2024-05-31T13:40:20.228044Z",
     "iopub.status.busy": "2024-05-31T13:40:20.227630Z",
     "iopub.status.idle": "2024-05-31T14:16:58.133436Z",
     "shell.execute_reply": "2024-05-31T14:16:58.132372Z"
    },
    "papermill": {
     "duration": 2197.918958,
     "end_time": "2024-05-31T14:16:58.136229",
     "exception": false,
     "start_time": "2024-05-31T13:40:20.217271",
     "status": "completed"
    },
    "tags": []
   },
   "outputs": [],
   "source": [
    "# Apply the parameters directly to the model\n",
    "model.set_params(**param_grid)\n",
    "\n",
    "# Train the model\n",
    "model.fit(X_train, y_train)\n",
    "\n",
    "# Predict on the test set\n",
    "y_pred = model.predict(X_val)\n"
   ]
  },
  {
   "cell_type": "code",
   "execution_count": 26,
   "id": "5a887142",
   "metadata": {
    "execution": {
     "iopub.execute_input": "2024-05-31T14:16:58.156602Z",
     "iopub.status.busy": "2024-05-31T14:16:58.156139Z",
     "iopub.status.idle": "2024-05-31T14:16:58.195942Z",
     "shell.execute_reply": "2024-05-31T14:16:58.194711Z"
    },
    "papermill": {
     "duration": 0.052474,
     "end_time": "2024-05-31T14:16:58.198256",
     "exception": false,
     "start_time": "2024-05-31T14:16:58.145782",
     "status": "completed"
    },
    "tags": []
   },
   "outputs": [
    {
     "name": "stdout",
     "output_type": "stream",
     "text": [
      "Accuracy: 0.37\n",
      "Precision: 0.38\n",
      "Recall: 0.37\n",
      "F1 Score: 0.37\n",
      "Confusion Matrix:\n",
      " [[988 585 462]\n",
      " [971 552 401]\n",
      " [754 422 613]]\n",
      "Classification Report:\n",
      "               precision    recall  f1-score   support\n",
      "\n",
      "           0       0.36      0.49      0.42      2035\n",
      "           1       0.35      0.29      0.32      1924\n",
      "           2       0.42      0.34      0.38      1789\n",
      "\n",
      "    accuracy                           0.37      5748\n",
      "   macro avg       0.38      0.37      0.37      5748\n",
      "weighted avg       0.38      0.37      0.37      5748\n",
      "\n"
     ]
    }
   ],
   "source": [
    "# Calculate evaluation metrics\n",
    "accuracy = accuracy_score(y_val, y_pred)\n",
    "precision = precision_score(y_val, y_pred, average='weighted')\n",
    "recall = recall_score(y_val, y_pred, average='weighted')\n",
    "f1 = f1_score(y_val, y_pred, average='weighted')\n",
    "cm = confusion_matrix(y_val, y_pred)\n",
    "report = classification_report(y_val, y_pred)\n",
    "\n",
    "# Print the evaluation metrics\n",
    "print(f\"Accuracy: {accuracy:.2f}\")\n",
    "print(f\"Precision: {precision:.2f}\")\n",
    "print(f\"Recall: {recall:.2f}\")\n",
    "print(f\"F1 Score: {f1:.2f}\")\n",
    "print(\"Confusion Matrix:\\n\", cm)\n",
    "print(\"Classification Report:\\n\", report)"
   ]
  },
  {
   "cell_type": "code",
   "execution_count": 27,
   "id": "3d0e4afe",
   "metadata": {
    "execution": {
     "iopub.execute_input": "2024-05-31T14:16:58.218065Z",
     "iopub.status.busy": "2024-05-31T14:16:58.217678Z",
     "iopub.status.idle": "2024-05-31T14:16:58.378203Z",
     "shell.execute_reply": "2024-05-31T14:16:58.377124Z"
    },
    "papermill": {
     "duration": 0.17328,
     "end_time": "2024-05-31T14:16:58.380722",
     "exception": false,
     "start_time": "2024-05-31T14:16:58.207442",
     "status": "completed"
    },
    "tags": []
   },
   "outputs": [],
   "source": [
    "prediction = model.predict_proba(X_test)"
   ]
  },
  {
   "cell_type": "code",
   "execution_count": 28,
   "id": "d6c5cd10",
   "metadata": {
    "execution": {
     "iopub.execute_input": "2024-05-31T14:16:58.401293Z",
     "iopub.status.busy": "2024-05-31T14:16:58.400883Z",
     "iopub.status.idle": "2024-05-31T14:16:58.407410Z",
     "shell.execute_reply": "2024-05-31T14:16:58.406375Z"
    },
    "papermill": {
     "duration": 0.019186,
     "end_time": "2024-05-31T14:16:58.409553",
     "exception": false,
     "start_time": "2024-05-31T14:16:58.390367",
     "status": "completed"
    },
    "tags": []
   },
   "outputs": [],
   "source": [
    "submission = pd.DataFrame({\n",
    "    'id': test['id'],  # Include the 'id' column from the test dataset\n",
    "    'winner_model_a': prediction[:, 0],  # Probability predictions for winner_model_a\n",
    "    'winner_model_b': prediction[:, 1],  # Probability predictions for winner_model_b\n",
    "    'winner_tie': prediction[:, 2]  # Probability predictions for winner_tie\n",
    "})"
   ]
  },
  {
   "cell_type": "code",
   "execution_count": 29,
   "id": "e783cccc",
   "metadata": {
    "execution": {
     "iopub.execute_input": "2024-05-31T14:16:58.429412Z",
     "iopub.status.busy": "2024-05-31T14:16:58.429026Z",
     "iopub.status.idle": "2024-05-31T14:16:58.440803Z",
     "shell.execute_reply": "2024-05-31T14:16:58.439784Z"
    },
    "papermill": {
     "duration": 0.024187,
     "end_time": "2024-05-31T14:16:58.442930",
     "exception": false,
     "start_time": "2024-05-31T14:16:58.418743",
     "status": "completed"
    },
    "tags": []
   },
   "outputs": [
    {
     "data": {
      "text/html": [
       "<div>\n",
       "<style scoped>\n",
       "    .dataframe tbody tr th:only-of-type {\n",
       "        vertical-align: middle;\n",
       "    }\n",
       "\n",
       "    .dataframe tbody tr th {\n",
       "        vertical-align: top;\n",
       "    }\n",
       "\n",
       "    .dataframe thead th {\n",
       "        text-align: right;\n",
       "    }\n",
       "</style>\n",
       "<table border=\"1\" class=\"dataframe\">\n",
       "  <thead>\n",
       "    <tr style=\"text-align: right;\">\n",
       "      <th></th>\n",
       "      <th>id</th>\n",
       "      <th>winner_model_a</th>\n",
       "      <th>winner_model_b</th>\n",
       "      <th>winner_tie</th>\n",
       "    </tr>\n",
       "  </thead>\n",
       "  <tbody>\n",
       "    <tr>\n",
       "      <th>0</th>\n",
       "      <td>136060</td>\n",
       "      <td>0.321380</td>\n",
       "      <td>0.323238</td>\n",
       "      <td>0.355382</td>\n",
       "    </tr>\n",
       "    <tr>\n",
       "      <th>1</th>\n",
       "      <td>211333</td>\n",
       "      <td>0.337118</td>\n",
       "      <td>0.362554</td>\n",
       "      <td>0.300328</td>\n",
       "    </tr>\n",
       "    <tr>\n",
       "      <th>2</th>\n",
       "      <td>1233961</td>\n",
       "      <td>0.374254</td>\n",
       "      <td>0.334691</td>\n",
       "      <td>0.291055</td>\n",
       "    </tr>\n",
       "  </tbody>\n",
       "</table>\n",
       "</div>"
      ],
      "text/plain": [
       "        id  winner_model_a  winner_model_b  winner_tie\n",
       "0   136060        0.321380        0.323238    0.355382\n",
       "1   211333        0.337118        0.362554    0.300328\n",
       "2  1233961        0.374254        0.334691    0.291055"
      ]
     },
     "execution_count": 29,
     "metadata": {},
     "output_type": "execute_result"
    }
   ],
   "source": [
    "submission.head()"
   ]
  },
  {
   "cell_type": "code",
   "execution_count": 30,
   "id": "1e4ae81c",
   "metadata": {
    "execution": {
     "iopub.execute_input": "2024-05-31T14:16:58.465949Z",
     "iopub.status.busy": "2024-05-31T14:16:58.465594Z",
     "iopub.status.idle": "2024-05-31T14:16:58.473535Z",
     "shell.execute_reply": "2024-05-31T14:16:58.472525Z"
    },
    "papermill": {
     "duration": 0.02178,
     "end_time": "2024-05-31T14:16:58.475701",
     "exception": false,
     "start_time": "2024-05-31T14:16:58.453921",
     "status": "completed"
    },
    "tags": []
   },
   "outputs": [],
   "source": [
    "submission.to_csv('submission.csv', index=False)"
   ]
  },
  {
   "cell_type": "code",
   "execution_count": null,
   "id": "ebeca5e2",
   "metadata": {
    "papermill": {
     "duration": 0.008913,
     "end_time": "2024-05-31T14:16:58.494124",
     "exception": false,
     "start_time": "2024-05-31T14:16:58.485211",
     "status": "completed"
    },
    "tags": []
   },
   "outputs": [],
   "source": []
  },
  {
   "cell_type": "code",
   "execution_count": null,
   "id": "4d402a37",
   "metadata": {
    "papermill": {
     "duration": 0.008953,
     "end_time": "2024-05-31T14:16:58.512680",
     "exception": false,
     "start_time": "2024-05-31T14:16:58.503727",
     "status": "completed"
    },
    "tags": []
   },
   "outputs": [],
   "source": []
  },
  {
   "cell_type": "code",
   "execution_count": null,
   "id": "d6aaab10",
   "metadata": {
    "papermill": {
     "duration": 0.008898,
     "end_time": "2024-05-31T14:16:58.530930",
     "exception": false,
     "start_time": "2024-05-31T14:16:58.522032",
     "status": "completed"
    },
    "tags": []
   },
   "outputs": [],
   "source": []
  }
 ],
 "metadata": {
  "kaggle": {
   "accelerator": "none",
   "dataSources": [
    {
     "databundleVersionId": 8346466,
     "sourceId": 66631,
     "sourceType": "competition"
    }
   ],
   "dockerImageVersionId": 30698,
   "isGpuEnabled": false,
   "isInternetEnabled": false,
   "language": "python",
   "sourceType": "notebook"
  },
  "kernelspec": {
   "display_name": "Python 3",
   "language": "python",
   "name": "python3"
  },
  "language_info": {
   "codemirror_mode": {
    "name": "ipython",
    "version": 3
   },
   "file_extension": ".py",
   "mimetype": "text/x-python",
   "name": "python",
   "nbconvert_exporter": "python",
   "pygments_lexer": "ipython3",
   "version": "3.10.13"
  },
  "papermill": {
   "default_parameters": {},
   "duration": 2662.96893,
   "end_time": "2024-05-31T14:16:59.470588",
   "environment_variables": {},
   "exception": null,
   "input_path": "__notebook__.ipynb",
   "output_path": "__notebook__.ipynb",
   "parameters": {},
   "start_time": "2024-05-31T13:32:36.501658",
   "version": "2.5.0"
  }
 },
 "nbformat": 4,
 "nbformat_minor": 5
}
