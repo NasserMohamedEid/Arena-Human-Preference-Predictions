{
 "cells": [
  {
   "cell_type": "code",
   "execution_count": 1,
   "id": "718ddbad",
   "metadata": {
    "_cell_guid": "b1076dfc-b9ad-4769-8c92-a6c4dae69d19",
    "_uuid": "8f2839f25d086af736a60e9eeb907d3b93b6e0e5",
    "execution": {
     "iopub.execute_input": "2024-06-02T22:53:38.566393Z",
     "iopub.status.busy": "2024-06-02T22:53:38.565730Z",
     "iopub.status.idle": "2024-06-02T22:53:39.614044Z",
     "shell.execute_reply": "2024-06-02T22:53:39.612631Z"
    },
    "papermill": {
     "duration": 1.065149,
     "end_time": "2024-06-02T22:53:39.616969",
     "exception": false,
     "start_time": "2024-06-02T22:53:38.551820",
     "status": "completed"
    },
    "tags": []
   },
   "outputs": [
    {
     "name": "stdout",
     "output_type": "stream",
     "text": [
      "/kaggle/input/lmsys-chatbot-arena/sample_submission.csv\n",
      "/kaggle/input/lmsys-chatbot-arena/train.csv\n",
      "/kaggle/input/lmsys-chatbot-arena/test.csv\n"
     ]
    }
   ],
   "source": [
    "# This Python 3 environment comes with many helpful analytics libraries installed\n",
    "# It is defined by the kaggle/python Docker image: https://github.com/kaggle/docker-python\n",
    "# For example, here's several helpful packages to load\n",
    "\n",
    "import numpy as np # linear algebra\n",
    "import pandas as pd # data processing, CSV file I/O (e.g. pd.read_csv)\n",
    "\n",
    "# Input data files are available in the read-only \"../input/\" directory\n",
    "# For example, running this (by clicking run or pressing Shift+Enter) will list all files under the input directory\n",
    "\n",
    "import os\n",
    "for dirname, _, filenames in os.walk('/kaggle/input'):\n",
    "    for filename in filenames:\n",
    "        print(os.path.join(dirname, filename))\n",
    "\n",
    "# You can write up to 20GB to the current directory (/kaggle/working/) that gets preserved as output when you create a version using \"Save & Run All\" \n",
    "# You can also write temporary files to /kaggle/temp/, but they won't be saved outside of the current session"
   ]
  },
  {
   "cell_type": "code",
   "execution_count": 2,
   "id": "b3fed3de",
   "metadata": {
    "execution": {
     "iopub.execute_input": "2024-06-02T22:53:39.642136Z",
     "iopub.status.busy": "2024-06-02T22:53:39.641615Z",
     "iopub.status.idle": "2024-06-02T22:53:42.135544Z",
     "shell.execute_reply": "2024-06-02T22:53:42.134227Z"
    },
    "papermill": {
     "duration": 2.509139,
     "end_time": "2024-06-02T22:53:42.138172",
     "exception": false,
     "start_time": "2024-06-02T22:53:39.629033",
     "status": "completed"
    },
    "tags": []
   },
   "outputs": [],
   "source": [
    "import os\n",
    "import numpy as np # linear algebra\n",
    "import pandas as pd # data processing, CSV file I/O (e.g. pd.read_csv)\n",
    "import regex as re\n",
    "\n",
    "from sklearn.feature_extraction.text import TfidfVectorizer\n",
    "\n",
    "from sklearn.model_selection import train_test_split\n",
    "from sklearn.metrics import classification_report, f1_score, recall_score, precision_score, accuracy_score, roc_auc_score, log_loss\n",
    "from sklearn.preprocessing import LabelEncoder\n",
    "import nltk\n",
    "from nltk.corpus import stopwords, wordnet\n",
    "from nltk.stem import PorterStemmer\n",
    "import string\n",
    "from nltk.stem import WordNetLemmatizer\n",
    "import numpy as np\n",
    "import xgboost as xgb\n",
    "from sklearn.model_selection import GridSearchCV, train_test_split\n",
    "from sklearn.datasets import load_iris  # You can replace this with any classification dataset\n",
    "from sklearn.preprocessing import LabelEncoder\n",
    "from sklearn.metrics import accuracy_score\n"
   ]
  },
  {
   "cell_type": "code",
   "execution_count": 3,
   "id": "108b2667",
   "metadata": {
    "execution": {
     "iopub.execute_input": "2024-06-02T22:53:42.163165Z",
     "iopub.status.busy": "2024-06-02T22:53:42.162769Z",
     "iopub.status.idle": "2024-06-02T22:53:42.176214Z",
     "shell.execute_reply": "2024-06-02T22:53:42.174975Z"
    },
    "papermill": {
     "duration": 0.029376,
     "end_time": "2024-06-02T22:53:42.179138",
     "exception": false,
     "start_time": "2024-06-02T22:53:42.149762",
     "status": "completed"
    },
    "tags": []
   },
   "outputs": [],
   "source": [
    "# Define the path to the downloaded NLTK data\n",
    "nltk_data_path = '/path/to/your/nltk_data'\n",
    "\n",
    "# Tell NLTK to look for data in the specified directory\n",
    "nltk.data.path.append(nltk_data_path)\n",
    "\n",
    "# Load the necessary resources\n",
    "stop_words = set(stopwords.words('english'))\n",
    "stemmer = PorterStemmer()\n",
    "lemmatizer = WordNetLemmatizer()\n",
    "\n"
   ]
  },
  {
   "cell_type": "code",
   "execution_count": 4,
   "id": "f7735f39",
   "metadata": {
    "execution": {
     "iopub.execute_input": "2024-06-02T22:53:42.205282Z",
     "iopub.status.busy": "2024-06-02T22:53:42.204873Z",
     "iopub.status.idle": "2024-06-02T22:53:45.960892Z",
     "shell.execute_reply": "2024-06-02T22:53:45.959716Z"
    },
    "papermill": {
     "duration": 3.771622,
     "end_time": "2024-06-02T22:53:45.963863",
     "exception": false,
     "start_time": "2024-06-02T22:53:42.192241",
     "status": "completed"
    },
    "tags": []
   },
   "outputs": [],
   "source": [
    "train = pd.read_csv(\"/kaggle/input/lmsys-chatbot-arena/train.csv\")\n",
    "\n",
    "test = pd.read_csv(\"/kaggle/input/lmsys-chatbot-arena/test.csv\")"
   ]
  },
  {
   "cell_type": "code",
   "execution_count": 5,
   "id": "6298371d",
   "metadata": {
    "execution": {
     "iopub.execute_input": "2024-06-02T22:53:45.989993Z",
     "iopub.status.busy": "2024-06-02T22:53:45.989605Z",
     "iopub.status.idle": "2024-06-02T22:53:46.026545Z",
     "shell.execute_reply": "2024-06-02T22:53:46.025664Z"
    },
    "papermill": {
     "duration": 0.054245,
     "end_time": "2024-06-02T22:53:46.029607",
     "exception": false,
     "start_time": "2024-06-02T22:53:45.975362",
     "status": "completed"
    },
    "tags": []
   },
   "outputs": [
    {
     "data": {
      "text/html": [
       "<div>\n",
       "<style scoped>\n",
       "    .dataframe tbody tr th:only-of-type {\n",
       "        vertical-align: middle;\n",
       "    }\n",
       "\n",
       "    .dataframe tbody tr th {\n",
       "        vertical-align: top;\n",
       "    }\n",
       "\n",
       "    .dataframe thead th {\n",
       "        text-align: right;\n",
       "    }\n",
       "</style>\n",
       "<table border=\"1\" class=\"dataframe\">\n",
       "  <thead>\n",
       "    <tr style=\"text-align: right;\">\n",
       "      <th></th>\n",
       "      <th>id</th>\n",
       "      <th>model_a</th>\n",
       "      <th>model_b</th>\n",
       "      <th>prompt</th>\n",
       "      <th>response_a</th>\n",
       "      <th>response_b</th>\n",
       "      <th>winner_model_a</th>\n",
       "      <th>winner_model_b</th>\n",
       "      <th>winner_tie</th>\n",
       "    </tr>\n",
       "  </thead>\n",
       "  <tbody>\n",
       "    <tr>\n",
       "      <th>0</th>\n",
       "      <td>30192</td>\n",
       "      <td>gpt-4-1106-preview</td>\n",
       "      <td>gpt-4-0613</td>\n",
       "      <td>[\"Is it morally right to try to have a certain...</td>\n",
       "      <td>[\"The question of whether it is morally right ...</td>\n",
       "      <td>[\"As an AI, I don't have personal beliefs or o...</td>\n",
       "      <td>1</td>\n",
       "      <td>0</td>\n",
       "      <td>0</td>\n",
       "    </tr>\n",
       "    <tr>\n",
       "      <th>1</th>\n",
       "      <td>53567</td>\n",
       "      <td>koala-13b</td>\n",
       "      <td>gpt-4-0613</td>\n",
       "      <td>[\"What is the difference between marriage lice...</td>\n",
       "      <td>[\"A marriage license is a legal document that ...</td>\n",
       "      <td>[\"A marriage license and a marriage certificat...</td>\n",
       "      <td>0</td>\n",
       "      <td>1</td>\n",
       "      <td>0</td>\n",
       "    </tr>\n",
       "    <tr>\n",
       "      <th>2</th>\n",
       "      <td>65089</td>\n",
       "      <td>gpt-3.5-turbo-0613</td>\n",
       "      <td>mistral-medium</td>\n",
       "      <td>[\"explain function calling. how would you call...</td>\n",
       "      <td>[\"Function calling is the process of invoking ...</td>\n",
       "      <td>[\"Function calling is the process of invoking ...</td>\n",
       "      <td>0</td>\n",
       "      <td>0</td>\n",
       "      <td>1</td>\n",
       "    </tr>\n",
       "    <tr>\n",
       "      <th>3</th>\n",
       "      <td>96401</td>\n",
       "      <td>llama-2-13b-chat</td>\n",
       "      <td>mistral-7b-instruct</td>\n",
       "      <td>[\"How can I create a test set for a very rare ...</td>\n",
       "      <td>[\"Creating a test set for a very rare category...</td>\n",
       "      <td>[\"When building a classifier for a very rare c...</td>\n",
       "      <td>1</td>\n",
       "      <td>0</td>\n",
       "      <td>0</td>\n",
       "    </tr>\n",
       "    <tr>\n",
       "      <th>4</th>\n",
       "      <td>198779</td>\n",
       "      <td>koala-13b</td>\n",
       "      <td>gpt-3.5-turbo-0314</td>\n",
       "      <td>[\"What is the best way to travel from Tel-Aviv...</td>\n",
       "      <td>[\"The best way to travel from Tel Aviv to Jeru...</td>\n",
       "      <td>[\"The best way to travel from Tel-Aviv to Jeru...</td>\n",
       "      <td>0</td>\n",
       "      <td>1</td>\n",
       "      <td>0</td>\n",
       "    </tr>\n",
       "    <tr>\n",
       "      <th>...</th>\n",
       "      <td>...</td>\n",
       "      <td>...</td>\n",
       "      <td>...</td>\n",
       "      <td>...</td>\n",
       "      <td>...</td>\n",
       "      <td>...</td>\n",
       "      <td>...</td>\n",
       "      <td>...</td>\n",
       "      <td>...</td>\n",
       "    </tr>\n",
       "    <tr>\n",
       "      <th>57472</th>\n",
       "      <td>4294656694</td>\n",
       "      <td>gpt-4-0613</td>\n",
       "      <td>claude-1</td>\n",
       "      <td>[\"A simple mnemonic for \\u03c0:\\n\\\"How I wish ...</td>\n",
       "      <td>[\"Sure, let's break it down:\\n\\n1. \\\"How\\\" has...</td>\n",
       "      <td>[\"Here is how that mnemonic represents the dig...</td>\n",
       "      <td>1</td>\n",
       "      <td>0</td>\n",
       "      <td>0</td>\n",
       "    </tr>\n",
       "    <tr>\n",
       "      <th>57473</th>\n",
       "      <td>4294692063</td>\n",
       "      <td>claude-2.0</td>\n",
       "      <td>llama-2-13b-chat</td>\n",
       "      <td>[\"In python, implement a naive Bayes with gaus...</td>\n",
       "      <td>[\"Here is an implementation of a naive Bayes c...</td>\n",
       "      <td>[\"Sure! Here's an implementation of a naive Ba...</td>\n",
       "      <td>1</td>\n",
       "      <td>0</td>\n",
       "      <td>0</td>\n",
       "    </tr>\n",
       "    <tr>\n",
       "      <th>57474</th>\n",
       "      <td>4294710549</td>\n",
       "      <td>claude-1</td>\n",
       "      <td>alpaca-13b</td>\n",
       "      <td>[\"is it unethical to work on building weapons?...</td>\n",
       "      <td>[\"Working on weapons technology raises some et...</td>\n",
       "      <td>[\"It depends on the context. Weapons can be us...</td>\n",
       "      <td>1</td>\n",
       "      <td>0</td>\n",
       "      <td>0</td>\n",
       "    </tr>\n",
       "    <tr>\n",
       "      <th>57475</th>\n",
       "      <td>4294899228</td>\n",
       "      <td>palm-2</td>\n",
       "      <td>tulu-2-dpo-70b</td>\n",
       "      <td>[\"If a bait contains 0,0025% bromadiolon then ...</td>\n",
       "      <td>[\"Bromadiolone is a rodenticide which is most ...</td>\n",
       "      <td>[\"As an AI language model, I do not promote or...</td>\n",
       "      <td>0</td>\n",
       "      <td>1</td>\n",
       "      <td>0</td>\n",
       "    </tr>\n",
       "    <tr>\n",
       "      <th>57476</th>\n",
       "      <td>4294947231</td>\n",
       "      <td>gemini-pro-dev-api</td>\n",
       "      <td>gpt-4-1106-preview</td>\n",
       "      <td>[\"three kids eat three apples in three days, h...</td>\n",
       "      <td>[\"27 apples\"]</td>\n",
       "      <td>[\"If three kids eat three apples in three days...</td>\n",
       "      <td>1</td>\n",
       "      <td>0</td>\n",
       "      <td>0</td>\n",
       "    </tr>\n",
       "  </tbody>\n",
       "</table>\n",
       "<p>57477 rows × 9 columns</p>\n",
       "</div>"
      ],
      "text/plain": [
       "               id             model_a              model_b  \\\n",
       "0           30192  gpt-4-1106-preview           gpt-4-0613   \n",
       "1           53567           koala-13b           gpt-4-0613   \n",
       "2           65089  gpt-3.5-turbo-0613       mistral-medium   \n",
       "3           96401    llama-2-13b-chat  mistral-7b-instruct   \n",
       "4          198779           koala-13b   gpt-3.5-turbo-0314   \n",
       "...           ...                 ...                  ...   \n",
       "57472  4294656694          gpt-4-0613             claude-1   \n",
       "57473  4294692063          claude-2.0     llama-2-13b-chat   \n",
       "57474  4294710549            claude-1           alpaca-13b   \n",
       "57475  4294899228              palm-2       tulu-2-dpo-70b   \n",
       "57476  4294947231  gemini-pro-dev-api   gpt-4-1106-preview   \n",
       "\n",
       "                                                  prompt  \\\n",
       "0      [\"Is it morally right to try to have a certain...   \n",
       "1      [\"What is the difference between marriage lice...   \n",
       "2      [\"explain function calling. how would you call...   \n",
       "3      [\"How can I create a test set for a very rare ...   \n",
       "4      [\"What is the best way to travel from Tel-Aviv...   \n",
       "...                                                  ...   \n",
       "57472  [\"A simple mnemonic for \\u03c0:\\n\\\"How I wish ...   \n",
       "57473  [\"In python, implement a naive Bayes with gaus...   \n",
       "57474  [\"is it unethical to work on building weapons?...   \n",
       "57475  [\"If a bait contains 0,0025% bromadiolon then ...   \n",
       "57476  [\"three kids eat three apples in three days, h...   \n",
       "\n",
       "                                              response_a  \\\n",
       "0      [\"The question of whether it is morally right ...   \n",
       "1      [\"A marriage license is a legal document that ...   \n",
       "2      [\"Function calling is the process of invoking ...   \n",
       "3      [\"Creating a test set for a very rare category...   \n",
       "4      [\"The best way to travel from Tel Aviv to Jeru...   \n",
       "...                                                  ...   \n",
       "57472  [\"Sure, let's break it down:\\n\\n1. \\\"How\\\" has...   \n",
       "57473  [\"Here is an implementation of a naive Bayes c...   \n",
       "57474  [\"Working on weapons technology raises some et...   \n",
       "57475  [\"Bromadiolone is a rodenticide which is most ...   \n",
       "57476                                      [\"27 apples\"]   \n",
       "\n",
       "                                              response_b  winner_model_a  \\\n",
       "0      [\"As an AI, I don't have personal beliefs or o...               1   \n",
       "1      [\"A marriage license and a marriage certificat...               0   \n",
       "2      [\"Function calling is the process of invoking ...               0   \n",
       "3      [\"When building a classifier for a very rare c...               1   \n",
       "4      [\"The best way to travel from Tel-Aviv to Jeru...               0   \n",
       "...                                                  ...             ...   \n",
       "57472  [\"Here is how that mnemonic represents the dig...               1   \n",
       "57473  [\"Sure! Here's an implementation of a naive Ba...               1   \n",
       "57474  [\"It depends on the context. Weapons can be us...               1   \n",
       "57475  [\"As an AI language model, I do not promote or...               0   \n",
       "57476  [\"If three kids eat three apples in three days...               1   \n",
       "\n",
       "       winner_model_b  winner_tie  \n",
       "0                   0           0  \n",
       "1                   1           0  \n",
       "2                   0           1  \n",
       "3                   0           0  \n",
       "4                   1           0  \n",
       "...               ...         ...  \n",
       "57472               0           0  \n",
       "57473               0           0  \n",
       "57474               0           0  \n",
       "57475               1           0  \n",
       "57476               0           0  \n",
       "\n",
       "[57477 rows x 9 columns]"
      ]
     },
     "execution_count": 5,
     "metadata": {},
     "output_type": "execute_result"
    }
   ],
   "source": [
    "train"
   ]
  },
  {
   "cell_type": "code",
   "execution_count": 6,
   "id": "5fbfb8d6",
   "metadata": {
    "execution": {
     "iopub.execute_input": "2024-06-02T22:53:46.056242Z",
     "iopub.status.busy": "2024-06-02T22:53:46.055400Z",
     "iopub.status.idle": "2024-06-02T22:53:46.067290Z",
     "shell.execute_reply": "2024-06-02T22:53:46.066177Z"
    },
    "papermill": {
     "duration": 0.027914,
     "end_time": "2024-06-02T22:53:46.069851",
     "exception": false,
     "start_time": "2024-06-02T22:53:46.041937",
     "status": "completed"
    },
    "tags": []
   },
   "outputs": [
    {
     "data": {
      "text/html": [
       "<div>\n",
       "<style scoped>\n",
       "    .dataframe tbody tr th:only-of-type {\n",
       "        vertical-align: middle;\n",
       "    }\n",
       "\n",
       "    .dataframe tbody tr th {\n",
       "        vertical-align: top;\n",
       "    }\n",
       "\n",
       "    .dataframe thead th {\n",
       "        text-align: right;\n",
       "    }\n",
       "</style>\n",
       "<table border=\"1\" class=\"dataframe\">\n",
       "  <thead>\n",
       "    <tr style=\"text-align: right;\">\n",
       "      <th></th>\n",
       "      <th>id</th>\n",
       "      <th>prompt</th>\n",
       "      <th>response_a</th>\n",
       "      <th>response_b</th>\n",
       "    </tr>\n",
       "  </thead>\n",
       "  <tbody>\n",
       "    <tr>\n",
       "      <th>0</th>\n",
       "      <td>136060</td>\n",
       "      <td>[\"I have three oranges today, I ate an orange ...</td>\n",
       "      <td>[\"You have two oranges today.\"]</td>\n",
       "      <td>[\"You still have three oranges. Eating an oran...</td>\n",
       "    </tr>\n",
       "    <tr>\n",
       "      <th>1</th>\n",
       "      <td>211333</td>\n",
       "      <td>[\"You are a mediator in a heated political deb...</td>\n",
       "      <td>[\"Thank you for sharing the details of the sit...</td>\n",
       "      <td>[\"Mr Reddy and Ms Blue both have valid points ...</td>\n",
       "    </tr>\n",
       "    <tr>\n",
       "      <th>2</th>\n",
       "      <td>1233961</td>\n",
       "      <td>[\"How to initialize the classification head wh...</td>\n",
       "      <td>[\"When you want to initialize the classificati...</td>\n",
       "      <td>[\"To initialize the classification head when p...</td>\n",
       "    </tr>\n",
       "  </tbody>\n",
       "</table>\n",
       "</div>"
      ],
      "text/plain": [
       "        id                                             prompt  \\\n",
       "0   136060  [\"I have three oranges today, I ate an orange ...   \n",
       "1   211333  [\"You are a mediator in a heated political deb...   \n",
       "2  1233961  [\"How to initialize the classification head wh...   \n",
       "\n",
       "                                          response_a  \\\n",
       "0                    [\"You have two oranges today.\"]   \n",
       "1  [\"Thank you for sharing the details of the sit...   \n",
       "2  [\"When you want to initialize the classificati...   \n",
       "\n",
       "                                          response_b  \n",
       "0  [\"You still have three oranges. Eating an oran...  \n",
       "1  [\"Mr Reddy and Ms Blue both have valid points ...  \n",
       "2  [\"To initialize the classification head when p...  "
      ]
     },
     "execution_count": 6,
     "metadata": {},
     "output_type": "execute_result"
    }
   ],
   "source": [
    "test"
   ]
  },
  {
   "cell_type": "code",
   "execution_count": 7,
   "id": "6f4dccb3",
   "metadata": {
    "execution": {
     "iopub.execute_input": "2024-06-02T22:53:46.097043Z",
     "iopub.status.busy": "2024-06-02T22:53:46.096211Z",
     "iopub.status.idle": "2024-06-02T22:53:46.102240Z",
     "shell.execute_reply": "2024-06-02T22:53:46.100796Z"
    },
    "papermill": {
     "duration": 0.022214,
     "end_time": "2024-06-02T22:53:46.104993",
     "exception": false,
     "start_time": "2024-06-02T22:53:46.082779",
     "status": "completed"
    },
    "tags": []
   },
   "outputs": [],
   "source": [
    "target_columns = ['winner_model_a', 'winner_model_b', 'winner_tie']"
   ]
  },
  {
   "cell_type": "code",
   "execution_count": 8,
   "id": "2173c829",
   "metadata": {
    "execution": {
     "iopub.execute_input": "2024-06-02T22:53:46.131999Z",
     "iopub.status.busy": "2024-06-02T22:53:46.131275Z",
     "iopub.status.idle": "2024-06-02T22:53:46.175291Z",
     "shell.execute_reply": "2024-06-02T22:53:46.174107Z"
    },
    "papermill": {
     "duration": 0.060482,
     "end_time": "2024-06-02T22:53:46.178300",
     "exception": false,
     "start_time": "2024-06-02T22:53:46.117818",
     "status": "completed"
    },
    "tags": []
   },
   "outputs": [],
   "source": [
    "y = train[target_columns].idxmax(axis=1) \n",
    "\n",
    "# Encode labels\n",
    "label_encoder = LabelEncoder()\n",
    "y_encoded = label_encoder.fit_transform(y)"
   ]
  },
  {
   "cell_type": "code",
   "execution_count": 9,
   "id": "82637f27",
   "metadata": {
    "execution": {
     "iopub.execute_input": "2024-06-02T22:53:46.206258Z",
     "iopub.status.busy": "2024-06-02T22:53:46.205869Z",
     "iopub.status.idle": "2024-06-02T22:53:46.214578Z",
     "shell.execute_reply": "2024-06-02T22:53:46.212929Z"
    },
    "papermill": {
     "duration": 0.027289,
     "end_time": "2024-06-02T22:53:46.218892",
     "exception": false,
     "start_time": "2024-06-02T22:53:46.191603",
     "status": "completed"
    },
    "tags": []
   },
   "outputs": [
    {
     "data": {
      "text/plain": [
       "array([0, 1, 2, ..., 0, 1, 0])"
      ]
     },
     "execution_count": 9,
     "metadata": {},
     "output_type": "execute_result"
    }
   ],
   "source": [
    "y_encoded"
   ]
  },
  {
   "cell_type": "code",
   "execution_count": 10,
   "id": "c5ce755b",
   "metadata": {
    "execution": {
     "iopub.execute_input": "2024-06-02T22:53:46.245115Z",
     "iopub.status.busy": "2024-06-02T22:53:46.244737Z",
     "iopub.status.idle": "2024-06-02T22:53:46.576656Z",
     "shell.execute_reply": "2024-06-02T22:53:46.575482Z"
    },
    "papermill": {
     "duration": 0.348244,
     "end_time": "2024-06-02T22:53:46.579315",
     "exception": false,
     "start_time": "2024-06-02T22:53:46.231071",
     "status": "completed"
    },
    "tags": []
   },
   "outputs": [],
   "source": [
    "text=train[\"prompt\"]+\" \"+train[\"response_a\"]+\" \"+train[\"response_b\"]"
   ]
  },
  {
   "cell_type": "code",
   "execution_count": 11,
   "id": "c67dc18f",
   "metadata": {
    "execution": {
     "iopub.execute_input": "2024-06-02T22:53:46.606414Z",
     "iopub.status.busy": "2024-06-02T22:53:46.605407Z",
     "iopub.status.idle": "2024-06-02T22:53:46.614634Z",
     "shell.execute_reply": "2024-06-02T22:53:46.613334Z"
    },
    "papermill": {
     "duration": 0.0254,
     "end_time": "2024-06-02T22:53:46.617021",
     "exception": false,
     "start_time": "2024-06-02T22:53:46.591621",
     "status": "completed"
    },
    "tags": []
   },
   "outputs": [
    {
     "data": {
      "text/plain": [
       "0        [\"Is it morally right to try to have a certain...\n",
       "1        [\"What is the difference between marriage lice...\n",
       "2        [\"explain function calling. how would you call...\n",
       "3        [\"How can I create a test set for a very rare ...\n",
       "4        [\"What is the best way to travel from Tel-Aviv...\n",
       "                               ...                        \n",
       "57472    [\"A simple mnemonic for \\u03c0:\\n\\\"How I wish ...\n",
       "57473    [\"In python, implement a naive Bayes with gaus...\n",
       "57474    [\"is it unethical to work on building weapons?...\n",
       "57475    [\"If a bait contains 0,0025% bromadiolon then ...\n",
       "57476    [\"three kids eat three apples in three days, h...\n",
       "Length: 57477, dtype: object"
      ]
     },
     "execution_count": 11,
     "metadata": {},
     "output_type": "execute_result"
    }
   ],
   "source": [
    "text"
   ]
  },
  {
   "cell_type": "code",
   "execution_count": 12,
   "id": "50222c69",
   "metadata": {
    "execution": {
     "iopub.execute_input": "2024-06-02T22:53:46.643628Z",
     "iopub.status.busy": "2024-06-02T22:53:46.643231Z",
     "iopub.status.idle": "2024-06-02T22:53:46.649693Z",
     "shell.execute_reply": "2024-06-02T22:53:46.648379Z"
    },
    "papermill": {
     "duration": 0.023218,
     "end_time": "2024-06-02T22:53:46.652786",
     "exception": false,
     "start_time": "2024-06-02T22:53:46.629568",
     "status": "completed"
    },
    "tags": []
   },
   "outputs": [],
   "source": [
    "test_data=test[\"prompt\"]+\" \"+test[\"response_a\"]+\" \"+test[\"response_b\"]"
   ]
  },
  {
   "cell_type": "markdown",
   "id": "974ce57a",
   "metadata": {
    "papermill": {
     "duration": 0.011985,
     "end_time": "2024-06-02T22:53:46.677155",
     "exception": false,
     "start_time": "2024-06-02T22:53:46.665170",
     "status": "completed"
    },
    "tags": []
   },
   "source": [
    "## clean text "
   ]
  },
  {
   "cell_type": "code",
   "execution_count": 13,
   "id": "f15ba053",
   "metadata": {
    "execution": {
     "iopub.execute_input": "2024-06-02T22:53:46.703223Z",
     "iopub.status.busy": "2024-06-02T22:53:46.702850Z",
     "iopub.status.idle": "2024-06-02T22:53:46.713285Z",
     "shell.execute_reply": "2024-06-02T22:53:46.712375Z"
    },
    "papermill": {
     "duration": 0.026176,
     "end_time": "2024-06-02T22:53:46.715503",
     "exception": false,
     "start_time": "2024-06-02T22:53:46.689327",
     "status": "completed"
    },
    "tags": []
   },
   "outputs": [],
   "source": [
    "def clean_text(text):\n",
    "    # Replace escaped characters with their actual representations\n",
    "    text = text.replace(r'\\\"', '\"')\n",
    "    text = text.replace(r\"\\'\", \"'\")\n",
    "    text = text.replace(r\"\\\\n\", \" \")\n",
    "    text = text.replace(r\"\\\\/\\\\/\", \"//\")\n",
    "    \n",
    "    # Remove code block markers\n",
    "    text = re.sub(r'```.*?```', '', text, flags=re.DOTALL)\n",
    "    \n",
    "    # Convert to lowercase\n",
    "    text = text.lower()\n",
    "    \n",
    "    # Remove punctuation\n",
    "    text = text.translate(str.maketrans('', '', string.punctuation))\n",
    "    \n",
    "    # Normalize whitespace\n",
    "    text = re.sub(r'\\s+', ' ', text).strip()\n",
    "    \n",
    "    return text\n",
    "\n",
    "# Function to remove stop words\n",
    "def remove_stop_words(text):\n",
    "    words = text.split()\n",
    "    filtered_words = [word for word in words if word not in stop_words]\n",
    "    return ' '.join(filtered_words)\n",
    "\n",
    "# Function to apply stemming\n",
    "def apply_stemming(text):\n",
    "    words = text.split()\n",
    "    stemmed_words = [stemmer.stem(word) for word in words]\n",
    "    return ' '.join(stemmed_words)\n",
    "\n",
    "# Combined preprocessing function\n",
    "def preprocess_text(text):\n",
    "    text = clean_text(text)\n",
    "    text = remove_stop_words(text)\n",
    "    text = apply_stemming(text)\n",
    "    return text\n",
    "\n"
   ]
  },
  {
   "cell_type": "code",
   "execution_count": 14,
   "id": "9afd80e4",
   "metadata": {
    "execution": {
     "iopub.execute_input": "2024-06-02T22:53:46.742574Z",
     "iopub.status.busy": "2024-06-02T22:53:46.742130Z",
     "iopub.status.idle": "2024-06-02T23:04:14.811313Z",
     "shell.execute_reply": "2024-06-02T23:04:14.809798Z"
    },
    "papermill": {
     "duration": 628.087079,
     "end_time": "2024-06-02T23:04:14.815007",
     "exception": false,
     "start_time": "2024-06-02T22:53:46.727928",
     "status": "completed"
    },
    "tags": []
   },
   "outputs": [],
   "source": [
    "clean_train=text.apply(preprocess_text)"
   ]
  },
  {
   "cell_type": "code",
   "execution_count": 15,
   "id": "9b636dbf",
   "metadata": {
    "execution": {
     "iopub.execute_input": "2024-06-02T23:04:14.843977Z",
     "iopub.status.busy": "2024-06-02T23:04:14.843572Z",
     "iopub.status.idle": "2024-06-02T23:04:14.887551Z",
     "shell.execute_reply": "2024-06-02T23:04:14.885883Z"
    },
    "papermill": {
     "duration": 0.062666,
     "end_time": "2024-06-02T23:04:14.891072",
     "exception": false,
     "start_time": "2024-06-02T23:04:14.828406",
     "status": "completed"
    },
    "tags": []
   },
   "outputs": [],
   "source": [
    "clean_test=test_data.apply(preprocess_text)"
   ]
  },
  {
   "cell_type": "code",
   "execution_count": null,
   "id": "96edb5d6",
   "metadata": {
    "papermill": {
     "duration": 0.011967,
     "end_time": "2024-06-02T23:04:14.915590",
     "exception": false,
     "start_time": "2024-06-02T23:04:14.903623",
     "status": "completed"
    },
    "tags": []
   },
   "outputs": [],
   "source": []
  },
  {
   "cell_type": "markdown",
   "id": "4724613f",
   "metadata": {
    "papermill": {
     "duration": 0.011905,
     "end_time": "2024-06-02T23:04:14.939544",
     "exception": false,
     "start_time": "2024-06-02T23:04:14.927639",
     "status": "completed"
    },
    "tags": []
   },
   "source": [
    "## TFIDF"
   ]
  },
  {
   "cell_type": "code",
   "execution_count": 16,
   "id": "440c67bd",
   "metadata": {
    "execution": {
     "iopub.execute_input": "2024-06-02T23:04:14.966411Z",
     "iopub.status.busy": "2024-06-02T23:04:14.965717Z",
     "iopub.status.idle": "2024-06-02T23:04:14.969962Z",
     "shell.execute_reply": "2024-06-02T23:04:14.969083Z"
    },
    "papermill": {
     "duration": 0.020634,
     "end_time": "2024-06-02T23:04:14.972271",
     "exception": false,
     "start_time": "2024-06-02T23:04:14.951637",
     "status": "completed"
    },
    "tags": []
   },
   "outputs": [],
   "source": [
    "from sklearn.feature_extraction.text import TfidfVectorizer"
   ]
  },
  {
   "cell_type": "code",
   "execution_count": 17,
   "id": "d6c893e1",
   "metadata": {
    "execution": {
     "iopub.execute_input": "2024-06-02T23:04:15.000427Z",
     "iopub.status.busy": "2024-06-02T23:04:14.999684Z",
     "iopub.status.idle": "2024-06-02T23:05:47.379482Z",
     "shell.execute_reply": "2024-06-02T23:05:47.378587Z"
    },
    "papermill": {
     "duration": 92.40656,
     "end_time": "2024-06-02T23:05:47.392433",
     "exception": false,
     "start_time": "2024-06-02T23:04:14.985873",
     "status": "completed"
    },
    "tags": []
   },
   "outputs": [
    {
     "data": {
      "text/html": [
       "<style>#sk-container-id-1 {color: black;background-color: white;}#sk-container-id-1 pre{padding: 0;}#sk-container-id-1 div.sk-toggleable {background-color: white;}#sk-container-id-1 label.sk-toggleable__label {cursor: pointer;display: block;width: 100%;margin-bottom: 0;padding: 0.3em;box-sizing: border-box;text-align: center;}#sk-container-id-1 label.sk-toggleable__label-arrow:before {content: \"▸\";float: left;margin-right: 0.25em;color: #696969;}#sk-container-id-1 label.sk-toggleable__label-arrow:hover:before {color: black;}#sk-container-id-1 div.sk-estimator:hover label.sk-toggleable__label-arrow:before {color: black;}#sk-container-id-1 div.sk-toggleable__content {max-height: 0;max-width: 0;overflow: hidden;text-align: left;background-color: #f0f8ff;}#sk-container-id-1 div.sk-toggleable__content pre {margin: 0.2em;color: black;border-radius: 0.25em;background-color: #f0f8ff;}#sk-container-id-1 input.sk-toggleable__control:checked~div.sk-toggleable__content {max-height: 200px;max-width: 100%;overflow: auto;}#sk-container-id-1 input.sk-toggleable__control:checked~label.sk-toggleable__label-arrow:before {content: \"▾\";}#sk-container-id-1 div.sk-estimator input.sk-toggleable__control:checked~label.sk-toggleable__label {background-color: #d4ebff;}#sk-container-id-1 div.sk-label input.sk-toggleable__control:checked~label.sk-toggleable__label {background-color: #d4ebff;}#sk-container-id-1 input.sk-hidden--visually {border: 0;clip: rect(1px 1px 1px 1px);clip: rect(1px, 1px, 1px, 1px);height: 1px;margin: -1px;overflow: hidden;padding: 0;position: absolute;width: 1px;}#sk-container-id-1 div.sk-estimator {font-family: monospace;background-color: #f0f8ff;border: 1px dotted black;border-radius: 0.25em;box-sizing: border-box;margin-bottom: 0.5em;}#sk-container-id-1 div.sk-estimator:hover {background-color: #d4ebff;}#sk-container-id-1 div.sk-parallel-item::after {content: \"\";width: 100%;border-bottom: 1px solid gray;flex-grow: 1;}#sk-container-id-1 div.sk-label:hover label.sk-toggleable__label {background-color: #d4ebff;}#sk-container-id-1 div.sk-serial::before {content: \"\";position: absolute;border-left: 1px solid gray;box-sizing: border-box;top: 0;bottom: 0;left: 50%;z-index: 0;}#sk-container-id-1 div.sk-serial {display: flex;flex-direction: column;align-items: center;background-color: white;padding-right: 0.2em;padding-left: 0.2em;position: relative;}#sk-container-id-1 div.sk-item {position: relative;z-index: 1;}#sk-container-id-1 div.sk-parallel {display: flex;align-items: stretch;justify-content: center;background-color: white;position: relative;}#sk-container-id-1 div.sk-item::before, #sk-container-id-1 div.sk-parallel-item::before {content: \"\";position: absolute;border-left: 1px solid gray;box-sizing: border-box;top: 0;bottom: 0;left: 50%;z-index: -1;}#sk-container-id-1 div.sk-parallel-item {display: flex;flex-direction: column;z-index: 1;position: relative;background-color: white;}#sk-container-id-1 div.sk-parallel-item:first-child::after {align-self: flex-end;width: 50%;}#sk-container-id-1 div.sk-parallel-item:last-child::after {align-self: flex-start;width: 50%;}#sk-container-id-1 div.sk-parallel-item:only-child::after {width: 0;}#sk-container-id-1 div.sk-dashed-wrapped {border: 1px dashed gray;margin: 0 0.4em 0.5em 0.4em;box-sizing: border-box;padding-bottom: 0.4em;background-color: white;}#sk-container-id-1 div.sk-label label {font-family: monospace;font-weight: bold;display: inline-block;line-height: 1.2em;}#sk-container-id-1 div.sk-label-container {text-align: center;}#sk-container-id-1 div.sk-container {/* jupyter's `normalize.less` sets `[hidden] { display: none; }` but bootstrap.min.css set `[hidden] { display: none !important; }` so we also need the `!important` here to be able to override the default hidden behavior on the sphinx rendered scikit-learn.org. See: https://github.com/scikit-learn/scikit-learn/issues/21755 */display: inline-block !important;position: relative;}#sk-container-id-1 div.sk-text-repr-fallback {display: none;}</style><div id=\"sk-container-id-1\" class=\"sk-top-container\"><div class=\"sk-text-repr-fallback\"><pre>TfidfVectorizer(min_df=3, ngram_range=(1, 3), stop_words=&#x27;english&#x27;,\n",
       "                strip_accents=&#x27;unicode&#x27;, sublinear_tf=True,\n",
       "                token_pattern=&#x27;\\\\w{1,}&#x27;)</pre><b>In a Jupyter environment, please rerun this cell to show the HTML representation or trust the notebook. <br />On GitHub, the HTML representation is unable to render, please try loading this page with nbviewer.org.</b></div><div class=\"sk-container\" hidden><div class=\"sk-item\"><div class=\"sk-estimator sk-toggleable\"><input class=\"sk-toggleable__control sk-hidden--visually\" id=\"sk-estimator-id-1\" type=\"checkbox\" checked><label for=\"sk-estimator-id-1\" class=\"sk-toggleable__label sk-toggleable__label-arrow\">TfidfVectorizer</label><div class=\"sk-toggleable__content\"><pre>TfidfVectorizer(min_df=3, ngram_range=(1, 3), stop_words=&#x27;english&#x27;,\n",
       "                strip_accents=&#x27;unicode&#x27;, sublinear_tf=True,\n",
       "                token_pattern=&#x27;\\\\w{1,}&#x27;)</pre></div></div></div></div></div>"
      ],
      "text/plain": [
       "TfidfVectorizer(min_df=3, ngram_range=(1, 3), stop_words='english',\n",
       "                strip_accents='unicode', sublinear_tf=True,\n",
       "                token_pattern='\\\\w{1,}')"
      ]
     },
     "execution_count": 17,
     "metadata": {},
     "output_type": "execute_result"
    }
   ],
   "source": [
    "vectorizer = TfidfVectorizer(min_df=3, max_features=None, \n",
    "                      strip_accents='unicode', analyzer='word', token_pattern=r'\\w{1,}',\n",
    "                      ngram_range=(1, 3), use_idf=True, smooth_idf=True, sublinear_tf=True,\n",
    "                      stop_words='english')\n",
    "vectorizer.fit(clean_train)"
   ]
  },
  {
   "cell_type": "code",
   "execution_count": 18,
   "id": "84443763",
   "metadata": {
    "execution": {
     "iopub.execute_input": "2024-06-02T23:05:47.421845Z",
     "iopub.status.busy": "2024-06-02T23:05:47.420735Z",
     "iopub.status.idle": "2024-06-02T23:06:45.532340Z",
     "shell.execute_reply": "2024-06-02T23:06:45.531113Z"
    },
    "papermill": {
     "duration": 58.129222,
     "end_time": "2024-06-02T23:06:45.534901",
     "exception": false,
     "start_time": "2024-06-02T23:05:47.405679",
     "status": "completed"
    },
    "tags": []
   },
   "outputs": [],
   "source": [
    "X_train=vectorizer.transform(clean_train)"
   ]
  },
  {
   "cell_type": "code",
   "execution_count": 19,
   "id": "58c3b8af",
   "metadata": {
    "execution": {
     "iopub.execute_input": "2024-06-02T23:06:45.562674Z",
     "iopub.status.busy": "2024-06-02T23:06:45.561771Z",
     "iopub.status.idle": "2024-06-02T23:06:45.584672Z",
     "shell.execute_reply": "2024-06-02T23:06:45.583490Z"
    },
    "papermill": {
     "duration": 0.039468,
     "end_time": "2024-06-02T23:06:45.587454",
     "exception": false,
     "start_time": "2024-06-02T23:06:45.547986",
     "status": "completed"
    },
    "tags": []
   },
   "outputs": [],
   "source": [
    "X_test=vectorizer.transform(clean_test)"
   ]
  },
  {
   "cell_type": "code",
   "execution_count": 20,
   "id": "05924908",
   "metadata": {
    "execution": {
     "iopub.execute_input": "2024-06-02T23:06:45.615826Z",
     "iopub.status.busy": "2024-06-02T23:06:45.615389Z",
     "iopub.status.idle": "2024-06-02T23:06:45.620185Z",
     "shell.execute_reply": "2024-06-02T23:06:45.619094Z"
    },
    "papermill": {
     "duration": 0.021668,
     "end_time": "2024-06-02T23:06:45.622584",
     "exception": false,
     "start_time": "2024-06-02T23:06:45.600916",
     "status": "completed"
    },
    "tags": []
   },
   "outputs": [],
   "source": [
    "random_state = 42\n"
   ]
  },
  {
   "cell_type": "code",
   "execution_count": 21,
   "id": "6702524a",
   "metadata": {
    "execution": {
     "iopub.execute_input": "2024-06-02T23:06:45.649712Z",
     "iopub.status.busy": "2024-06-02T23:06:45.649258Z",
     "iopub.status.idle": "2024-06-02T23:06:45.724666Z",
     "shell.execute_reply": "2024-06-02T23:06:45.723318Z"
    },
    "papermill": {
     "duration": 0.092172,
     "end_time": "2024-06-02T23:06:45.727617",
     "exception": false,
     "start_time": "2024-06-02T23:06:45.635445",
     "status": "completed"
    },
    "tags": []
   },
   "outputs": [],
   "source": [
    "X_train, X_val, y_train, y_val = train_test_split(X_train, y_encoded, test_size=0.1, random_state=random_state)\n"
   ]
  },
  {
   "cell_type": "markdown",
   "id": "719e0030",
   "metadata": {
    "papermill": {
     "duration": 0.012656,
     "end_time": "2024-06-02T23:06:45.753629",
     "exception": false,
     "start_time": "2024-06-02T23:06:45.740973",
     "status": "completed"
    },
    "tags": []
   },
   "source": [
    "## Model"
   ]
  },
  {
   "cell_type": "code",
   "execution_count": 22,
   "id": "a24f2e04",
   "metadata": {
    "execution": {
     "iopub.execute_input": "2024-06-02T23:06:45.781329Z",
     "iopub.status.busy": "2024-06-02T23:06:45.780348Z",
     "iopub.status.idle": "2024-06-02T23:06:45.786042Z",
     "shell.execute_reply": "2024-06-02T23:06:45.784834Z"
    },
    "papermill": {
     "duration": 0.022941,
     "end_time": "2024-06-02T23:06:45.789037",
     "exception": false,
     "start_time": "2024-06-02T23:06:45.766096",
     "status": "completed"
    },
    "tags": []
   },
   "outputs": [],
   "source": [
    "from sklearn.metrics import accuracy_score, precision_score, recall_score, f1_score, confusion_matrix, classification_report\n",
    "import xgboost as xgb"
   ]
  },
  {
   "cell_type": "code",
   "execution_count": 23,
   "id": "4e912b12",
   "metadata": {
    "execution": {
     "iopub.execute_input": "2024-06-02T23:06:45.818270Z",
     "iopub.status.busy": "2024-06-02T23:06:45.817894Z",
     "iopub.status.idle": "2024-06-02T23:06:45.824659Z",
     "shell.execute_reply": "2024-06-02T23:06:45.823122Z"
    },
    "papermill": {
     "duration": 0.024329,
     "end_time": "2024-06-02T23:06:45.827376",
     "exception": false,
     "start_time": "2024-06-02T23:06:45.803047",
     "status": "completed"
    },
    "tags": []
   },
   "outputs": [],
   "source": []
  },
  {
   "cell_type": "code",
   "execution_count": 24,
   "id": "0d9d4bf1",
   "metadata": {
    "execution": {
     "iopub.execute_input": "2024-06-02T23:06:45.855357Z",
     "iopub.status.busy": "2024-06-02T23:06:45.854974Z",
     "iopub.status.idle": "2024-06-02T23:06:45.861737Z",
     "shell.execute_reply": "2024-06-02T23:06:45.860056Z"
    },
    "papermill": {
     "duration": 0.024511,
     "end_time": "2024-06-02T23:06:45.865217",
     "exception": false,
     "start_time": "2024-06-02T23:06:45.840706",
     "status": "completed"
    },
    "tags": []
   },
   "outputs": [],
   "source": [
    "model = xgb.XGBClassifier(use_label_encoder=False, eval_metric='mlogloss', seed=random_state)\n",
    "\n",
    "param_grid = {\n",
    "    'n_estimators': 200,  # Should be an integer, not a list\n",
    "    'max_depth': 8,       # Should be an integer, not a list\n",
    "    'learning_rate': 0.01 # Should be a float, not a list\n",
    "}\n",
    "\n"
   ]
  },
  {
   "cell_type": "code",
   "execution_count": 25,
   "id": "f1499a7f",
   "metadata": {
    "execution": {
     "iopub.execute_input": "2024-06-02T23:06:45.893884Z",
     "iopub.status.busy": "2024-06-02T23:06:45.893414Z",
     "iopub.status.idle": "2024-06-03T00:36:08.980993Z",
     "shell.execute_reply": "2024-06-03T00:36:08.979972Z"
    },
    "papermill": {
     "duration": 5363.105313,
     "end_time": "2024-06-03T00:36:08.984039",
     "exception": false,
     "start_time": "2024-06-02T23:06:45.878726",
     "status": "completed"
    },
    "tags": []
   },
   "outputs": [],
   "source": [
    "# Apply the parameters directly to the model\n",
    "model.set_params(**param_grid)\n",
    "\n",
    "# Train the model\n",
    "model.fit(X_train, y_train)\n",
    "\n",
    "# Predict on the test set\n",
    "y_pred = model.predict(X_val)\n"
   ]
  },
  {
   "cell_type": "code",
   "execution_count": 26,
   "id": "5a6890f4",
   "metadata": {
    "execution": {
     "iopub.execute_input": "2024-06-03T00:36:09.013070Z",
     "iopub.status.busy": "2024-06-03T00:36:09.012662Z",
     "iopub.status.idle": "2024-06-03T00:36:09.055749Z",
     "shell.execute_reply": "2024-06-03T00:36:09.054567Z"
    },
    "papermill": {
     "duration": 0.059998,
     "end_time": "2024-06-03T00:36:09.058641",
     "exception": false,
     "start_time": "2024-06-03T00:36:08.998643",
     "status": "completed"
    },
    "tags": []
   },
   "outputs": [
    {
     "name": "stdout",
     "output_type": "stream",
     "text": [
      "Accuracy: 0.38\n",
      "Precision: 0.38\n",
      "Recall: 0.38\n",
      "F1 Score: 0.38\n",
      "Confusion Matrix:\n",
      " [[981 604 450]\n",
      " [948 582 394]\n",
      " [747 425 617]]\n",
      "Classification Report:\n",
      "               precision    recall  f1-score   support\n",
      "\n",
      "           0       0.37      0.48      0.42      2035\n",
      "           1       0.36      0.30      0.33      1924\n",
      "           2       0.42      0.34      0.38      1789\n",
      "\n",
      "    accuracy                           0.38      5748\n",
      "   macro avg       0.38      0.38      0.38      5748\n",
      "weighted avg       0.38      0.38      0.38      5748\n",
      "\n"
     ]
    }
   ],
   "source": [
    "# Calculate evaluation metrics\n",
    "accuracy = accuracy_score(y_val, y_pred)\n",
    "precision = precision_score(y_val, y_pred, average='weighted')\n",
    "recall = recall_score(y_val, y_pred, average='weighted')\n",
    "f1 = f1_score(y_val, y_pred, average='weighted')\n",
    "cm = confusion_matrix(y_val, y_pred)\n",
    "report = classification_report(y_val, y_pred)\n",
    "\n",
    "# Print the evaluation metrics\n",
    "print(f\"Accuracy: {accuracy:.2f}\")\n",
    "print(f\"Precision: {precision:.2f}\")\n",
    "print(f\"Recall: {recall:.2f}\")\n",
    "print(f\"F1 Score: {f1:.2f}\")\n",
    "print(\"Confusion Matrix:\\n\", cm)\n",
    "print(\"Classification Report:\\n\", report)"
   ]
  },
  {
   "cell_type": "code",
   "execution_count": 27,
   "id": "057c9c2a",
   "metadata": {
    "execution": {
     "iopub.execute_input": "2024-06-03T00:36:09.087154Z",
     "iopub.status.busy": "2024-06-03T00:36:09.086459Z",
     "iopub.status.idle": "2024-06-03T00:36:09.328714Z",
     "shell.execute_reply": "2024-06-03T00:36:09.327777Z"
    },
    "papermill": {
     "duration": 0.259925,
     "end_time": "2024-06-03T00:36:09.331310",
     "exception": false,
     "start_time": "2024-06-03T00:36:09.071385",
     "status": "completed"
    },
    "tags": []
   },
   "outputs": [],
   "source": [
    "prediction = model.predict_proba(X_test)"
   ]
  },
  {
   "cell_type": "code",
   "execution_count": 28,
   "id": "8a2ac39f",
   "metadata": {
    "execution": {
     "iopub.execute_input": "2024-06-03T00:36:09.360682Z",
     "iopub.status.busy": "2024-06-03T00:36:09.360280Z",
     "iopub.status.idle": "2024-06-03T00:36:09.367226Z",
     "shell.execute_reply": "2024-06-03T00:36:09.366053Z"
    },
    "papermill": {
     "duration": 0.024071,
     "end_time": "2024-06-03T00:36:09.369894",
     "exception": false,
     "start_time": "2024-06-03T00:36:09.345823",
     "status": "completed"
    },
    "tags": []
   },
   "outputs": [],
   "source": [
    "submission = pd.DataFrame({\n",
    "    'id': test['id'],  # Include the 'id' column from the test dataset\n",
    "    'winner_model_a': prediction[:, 0],  # Probability predictions for winner_model_a\n",
    "    'winner_model_b': prediction[:, 1],  # Probability predictions for winner_model_b\n",
    "    'winner_tie': prediction[:, 2]  # Probability predictions for winner_tie\n",
    "})"
   ]
  },
  {
   "cell_type": "code",
   "execution_count": 29,
   "id": "f691c463",
   "metadata": {
    "execution": {
     "iopub.execute_input": "2024-06-03T00:36:09.398352Z",
     "iopub.status.busy": "2024-06-03T00:36:09.397734Z",
     "iopub.status.idle": "2024-06-03T00:36:09.411342Z",
     "shell.execute_reply": "2024-06-03T00:36:09.409963Z"
    },
    "papermill": {
     "duration": 0.031223,
     "end_time": "2024-06-03T00:36:09.414117",
     "exception": false,
     "start_time": "2024-06-03T00:36:09.382894",
     "status": "completed"
    },
    "tags": []
   },
   "outputs": [
    {
     "data": {
      "text/html": [
       "<div>\n",
       "<style scoped>\n",
       "    .dataframe tbody tr th:only-of-type {\n",
       "        vertical-align: middle;\n",
       "    }\n",
       "\n",
       "    .dataframe tbody tr th {\n",
       "        vertical-align: top;\n",
       "    }\n",
       "\n",
       "    .dataframe thead th {\n",
       "        text-align: right;\n",
       "    }\n",
       "</style>\n",
       "<table border=\"1\" class=\"dataframe\">\n",
       "  <thead>\n",
       "    <tr style=\"text-align: right;\">\n",
       "      <th></th>\n",
       "      <th>id</th>\n",
       "      <th>winner_model_a</th>\n",
       "      <th>winner_model_b</th>\n",
       "      <th>winner_tie</th>\n",
       "    </tr>\n",
       "  </thead>\n",
       "  <tbody>\n",
       "    <tr>\n",
       "      <th>0</th>\n",
       "      <td>136060</td>\n",
       "      <td>0.312964</td>\n",
       "      <td>0.310363</td>\n",
       "      <td>0.376673</td>\n",
       "    </tr>\n",
       "    <tr>\n",
       "      <th>1</th>\n",
       "      <td>211333</td>\n",
       "      <td>0.359841</td>\n",
       "      <td>0.349286</td>\n",
       "      <td>0.290873</td>\n",
       "    </tr>\n",
       "    <tr>\n",
       "      <th>2</th>\n",
       "      <td>1233961</td>\n",
       "      <td>0.352638</td>\n",
       "      <td>0.347039</td>\n",
       "      <td>0.300323</td>\n",
       "    </tr>\n",
       "  </tbody>\n",
       "</table>\n",
       "</div>"
      ],
      "text/plain": [
       "        id  winner_model_a  winner_model_b  winner_tie\n",
       "0   136060        0.312964        0.310363    0.376673\n",
       "1   211333        0.359841        0.349286    0.290873\n",
       "2  1233961        0.352638        0.347039    0.300323"
      ]
     },
     "execution_count": 29,
     "metadata": {},
     "output_type": "execute_result"
    }
   ],
   "source": [
    "submission.head()"
   ]
  },
  {
   "cell_type": "code",
   "execution_count": 30,
   "id": "2fc2ab99",
   "metadata": {
    "execution": {
     "iopub.execute_input": "2024-06-03T00:36:09.442382Z",
     "iopub.status.busy": "2024-06-03T00:36:09.442002Z",
     "iopub.status.idle": "2024-06-03T00:36:09.450577Z",
     "shell.execute_reply": "2024-06-03T00:36:09.449365Z"
    },
    "papermill": {
     "duration": 0.025705,
     "end_time": "2024-06-03T00:36:09.453081",
     "exception": false,
     "start_time": "2024-06-03T00:36:09.427376",
     "status": "completed"
    },
    "tags": []
   },
   "outputs": [],
   "source": [
    "submission.to_csv('submission.csv', index=False)"
   ]
  },
  {
   "cell_type": "code",
   "execution_count": null,
   "id": "cce08e53",
   "metadata": {
    "papermill": {
     "duration": 0.012923,
     "end_time": "2024-06-03T00:36:09.479628",
     "exception": false,
     "start_time": "2024-06-03T00:36:09.466705",
     "status": "completed"
    },
    "tags": []
   },
   "outputs": [],
   "source": []
  },
  {
   "cell_type": "code",
   "execution_count": null,
   "id": "d5e00a37",
   "metadata": {
    "papermill": {
     "duration": 0.012915,
     "end_time": "2024-06-03T00:36:09.505715",
     "exception": false,
     "start_time": "2024-06-03T00:36:09.492800",
     "status": "completed"
    },
    "tags": []
   },
   "outputs": [],
   "source": []
  },
  {
   "cell_type": "code",
   "execution_count": null,
   "id": "386282de",
   "metadata": {
    "papermill": {
     "duration": 0.012845,
     "end_time": "2024-06-03T00:36:09.532329",
     "exception": false,
     "start_time": "2024-06-03T00:36:09.519484",
     "status": "completed"
    },
    "tags": []
   },
   "outputs": [],
   "source": []
  }
 ],
 "metadata": {
  "kaggle": {
   "accelerator": "none",
   "dataSources": [
    {
     "databundleVersionId": 8346466,
     "sourceId": 66631,
     "sourceType": "competition"
    }
   ],
   "dockerImageVersionId": 30698,
   "isGpuEnabled": false,
   "isInternetEnabled": false,
   "language": "python",
   "sourceType": "notebook"
  },
  "kernelspec": {
   "display_name": "Python 3",
   "language": "python",
   "name": "python3"
  },
  "language_info": {
   "codemirror_mode": {
    "name": "ipython",
    "version": 3
   },
   "file_extension": ".py",
   "mimetype": "text/x-python",
   "name": "python",
   "nbconvert_exporter": "python",
   "pygments_lexer": "ipython3",
   "version": "3.10.13"
  },
  "papermill": {
   "default_parameters": {},
   "duration": 6157.164346,
   "end_time": "2024-06-03T00:36:12.483976",
   "environment_variables": {},
   "exception": null,
   "input_path": "__notebook__.ipynb",
   "output_path": "__notebook__.ipynb",
   "parameters": {},
   "start_time": "2024-06-02T22:53:35.319630",
   "version": "2.5.0"
  }
 },
 "nbformat": 4,
 "nbformat_minor": 5
}
